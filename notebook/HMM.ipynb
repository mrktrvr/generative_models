{
 "cells": [
  {
   "cell_type": "markdown",
   "metadata": {},
   "source": [
    "# Model\n",
    "\n",
    "$$\\begin{align}\n",
    "p(\\boldsymbol{Y},\\boldsymbol{S},\\boldsymbol{\\mu},\\boldsymbol{R},\\boldsymbol{\\pi},\\boldsymbol{A})=&p(\\boldsymbol{Y}|\\boldsymbol{S},\\boldsymbol{\\mu},\\boldsymbol{R})p(\\boldsymbol{S}|\\boldsymbol{\\pi},\\boldsymbol{A})p(\\boldsymbol{\\pi})p(\\boldsymbol{A})p(\\boldsymbol{\\mu},\\boldsymbol{R})\n",
    "\\\\\n",
    "p(\\boldsymbol{Y}|\\boldsymbol{S},\\boldsymbol{\\mu},\\boldsymbol{R})&=\\prod_t^T\\prod_k^K\\mathcal{N}(\\boldsymbol{y}_t|\\boldsymbol{\\mu}^{(k)},\\boldsymbol{R}^{(k)^{−1}})^{s_t^{(k)}}\n",
    "\\\\\n",
    "p(\\boldsymbol{S}|\\boldsymbol{\\pi},\\boldsymbol{A})&=\\mathrm{Cat}(\\boldsymbol{s}_1|\\boldsymbol{\\pi})\\prod_{t=2}^{T}\\mathrm{Cat}(\\boldsymbol{s}_t|\\boldsymbol{s}_{t−1},\\boldsymbol{A})\n",
    "\\\\\n",
    "p(\\boldsymbol{\\pi})&=\\mathrm{Dir}(\\boldsymbol{\\pi}|\\boldsymbol{\\alpha}_{\\boldsymbol{\\pi}})\n",
    "\\\\\n",
    "p(\\boldsymbol{A})&=\\mathrm{Dir}(\\boldsymbol{A}|\\boldsymbol{\\alpha}_{A})\n",
    "\\\\\n",
    "p(\\boldsymbol{\\mu},\\boldsymbol{R})&=\\prod_{k=1}^{K}\\mathcal{NW}(\\boldsymbol{\\mu}_{k},\\boldsymbol{R}_{k}|\\beta_{k},\\boldsymbol{\\mu}_{0_k},\\nu_{k},\\boldsymbol{W}_{k})\n",
    "\\end{align}\n",
    "$$"
   ]
  },
  {
   "cell_type": "markdown",
   "metadata": {},
   "source": [
    "# Variatioal Inference"
   ]
  },
  {
   "cell_type": "markdown",
   "metadata": {},
   "source": [
    "$$\n",
    "\\begin{align}\n",
    "p(\\boldsymbol{S},\\boldsymbol{\\mu},\\boldsymbol{R},\\boldsymbol{\\pi},\\boldsymbol{A}|\\boldsymbol{Y})\\approx & q(\\boldsymbol{S})q(\\boldsymbol{\\mu},\\boldsymbol{R},\\boldsymbol{\\pi},\\boldsymbol{A})\n",
    "\\\\\n",
    "\\ln q(\\boldsymbol{S})&=\\langle\\ln\n",
    "p(\\boldsymbol{Y}|\\boldsymbol{S},\\boldsymbol{\\mu},\\boldsymbol{R})\\rangle_{q(\\boldsymbol{\\mu},\\boldsymbol{R})}+\\langle\\ln p(\\boldsymbol{S}|\\boldsymbol{\\pi},\\boldsymbol{A})\\rangle_{q(\\boldsymbol{\\pi},\\boldsymbol{A})} +C\n",
    "\\\\\n",
    "\\ln q(\\boldsymbol{\\mu},\\boldsymbol{R})&=\\langle\\ln p(\\boldsymbol{Y}|\\boldsymbol{S},\\boldsymbol{\\mu},\\boldsymbol{R})\\rangle_{q(\\boldsymbol{S})}+\\ln p(\\boldsymbol{\\mu},\\boldsymbol{R}) +C\n",
    "\\\\\n",
    "\\ln q(\\boldsymbol{\\pi})&=\\langle \\ln p(\\boldsymbol{S}|\\boldsymbol{\\pi},\\boldsymbol{A}) \\rangle_{q(\\boldsymbol{S}),q(\\boldsymbol{\\pi})}+\\ln p(\\boldsymbol{\\pi})+C\n",
    "\\\\\n",
    "\\ln q(\\boldsymbol{A}))&=\\langle \\ln p(\\boldsymbol{S}|\\boldsymbol{\\pi},\\boldsymbol{A})\\rangle_{q(\\boldsymbol{S}),q(A)}+\\ln p(\\boldsymbol{A})+C\n",
    "\\end{align}\n",
    "$$"
   ]
  },
  {
   "cell_type": "markdown",
   "metadata": {},
   "source": [
    "# q(μ, R)\n",
    "$$\n",
    "\\begin{align}\n",
    "\\ln q(\\boldsymbol{\\mu},\\boldsymbol{R})=&\\langle\\ln p(\\boldsymbol{Y}|\\boldsymbol{S},\\boldsymbol{\\mu},\\boldsymbol{R})\\rangle_{q(\\boldsymbol{S})}+\\ln p(\\boldsymbol{\\mu},\\boldsymbol{R})+C\n",
    "\\\\\n",
    "=&\\langle\\sum_{t=1}^\\top\\sum_{k=1}^Ks_t^{(k)}\\ln\\mathcal{N}(\\boldsymbol{y}_t|\\mu^{(k)},\\boldsymbol{R}^{(k)^{-1}})\\rangle_{q(S)}+\\sum_{k=1}^{K}\\ln\\mathcal{NW}(\\mu^{(k)},\\boldsymbol{R}^{(k)}|\\beta^{(k)},\\boldsymbol{\\mu}_0^{(k)},\\nu^{(k)},\\boldsymbol{W}^{(k)})+C\n",
    "\\\\\n",
    "=&\\sum_{k=1}^K\\{\\sum_{t=1}^t\\langle s_t^{(k)}\\rangle\\ln\\mathcal{N}(\\boldsymbol{y}_t|\\boldsymbol{\\mu}^{(k)},\\boldsymbol{R}^{(k)^{-1}})+\\ln\\mathcal{NW}(\\boldsymbol{\\mu}^{(k)},\\boldsymbol{R}^{(k)}|\\beta^{(k)},\\boldsymbol{\\mu}_0^{(k)},\\nu^{(k)},\\boldsymbol{W}^{(k)})\\}+C\n",
    "\\\\\n",
    "=&\\sum_k^K\\big{\\{}-\\frac{1}{2}\\sum_t^\\top\\langle s_t^{(k)}\\rangle\\{(\\boldsymbol{y}_t-\\boldsymbol{\\mu}^{(k)})^\\top\\boldsymbol{R}^{(k)}(\\boldsymbol{y}_t-\\boldsymbol{\\mu}^{(k)}) -\\ln |\\boldsymbol{R}^{(k)}|\\}-\\frac{1}{2}\\{(\\boldsymbol{\\mu}^{(k)}-\\boldsymbol{\\mu}_0^{(k)})^\\top\\beta^{(k)}\\boldsymbol{R}^{(k)}(\\boldsymbol{\\mu}^{(k)}-\\boldsymbol{\\mu}_0^{(k)})-\\ln|\\beta^{(k)}\\boldsymbol{R}^{(k)}|\\}\n",
    "\\\\\n",
    "&+\\frac{\\nu^{(k)}-D-1}{2} \\ln|\\boldsymbol{R}^{(k)}|-\\frac{1}{2}\\mathrm{Tr}(\\boldsymbol{W}^{(k)^{-1}}\\boldsymbol{R}^{(k)}))\\big\\}+C\n",
    "\\\\\n",
    "=&\\sum_k^K-\\frac{1}{2}\\big{\\{}(\\sum_t^\\top\\langle s_t\\rangle+\\beta^{(k)})\\boldsymbol{\\mu}^{(k)^\\top}\\boldsymbol{R}^{(k)}\\boldsymbol{\\mu}^{(k)}-2(\\sum_t^T\\langle s_t^{(k)}\\rangle \\boldsymbol{y}_t +\\beta^{(k)} \\boldsymbol{\\mu}_0^{(k)^\\top})\\boldsymbol{R}^{(k)} \\boldsymbol{\\mu}^{(k)}\\big{\\}}\n",
    "+\\frac{\\nu+\\sum_t^T\\langle s_t\\rangle-D-1}{2}\\ln|\\boldsymbol{R}^{(k)}|+\\frac{1}{2}\\ln|\\beta \\boldsymbol{R}^{(k)}|\n",
    "\\\\\n",
    "&-\\frac{1}{2}\\{\\sum_t^T\\langle s_t^{(k)}\\rangle \\boldsymbol{y}_t^\\top\\boldsymbol{R}^{(k)}\\boldsymbol{y}_t+\\beta^{(k)} \\boldsymbol{\\mu}^{(k)^\\top}\\boldsymbol{R}^{(k)} \\boldsymbol{\\mu}_0^{(k)}+\\mathrm{Tr}(\\boldsymbol{W}^{(k)^{-1}}\\boldsymbol{R}^{(k)})\\}+C\n",
    "\\\\\n",
    "=&-\\frac{1}{2}\\big{\\{}(\\boldsymbol{\\mu}^{(k)^\\top}-\\hat{\\boldsymbol{\\mu}}^{(k)})^\\top\\hat{\\beta}^{(k)} \\boldsymbol{R}^{(k)}(\\boldsymbol{\\mu}^{(k)}-\\hat{\\boldsymbol{\\mu}}^{(k)})\\big{\\}}+\\frac{\\hat{\\nu}^{(k)}-D-1}{2}\\ln|\\boldsymbol{R}^{(k)}|+\\frac{1}{2}\\ln|\\beta^{(k)} \\boldsymbol{R}^{(k)}|\n",
    "\\\\\n",
    "&-\\frac{1}{2}\\{\\sum_t^T\\langle s_t^{(k)}\\rangle \\boldsymbol{y}_t^\\top\\boldsymbol{R}^{(k)}\\boldsymbol{y}_t+\\beta^{(k)} \\boldsymbol{\\mu}^{(k)^\\top}\\boldsymbol{R}^{(k)} \\boldsymbol{\\mu}_0^{(k)}+\\mathrm{Tr}(\\boldsymbol{W}^{(k)^{-1}}\\boldsymbol{R}^{(k)})\\}+C\n",
    "\\\\\n",
    "=&-\\frac{1}{2}\\big{\\{}(\\boldsymbol{\\mu}^{(k)^\\top}-\\hat{\\boldsymbol{\\mu}}^{(k)})^\\top\\hat{\\beta}^{(k)}\\boldsymbol{R}^{(k)}(\\boldsymbol{\\mu}^{(k)}-\\hat{\\boldsymbol{\\mu}}^{(k)})\\big{\\}}+\\frac{1}{2}\\ln|\\beta^{(k)} \\boldsymbol{R}^{(k)}|+\\frac{\\hat{\\nu}^{(k)}-D-1}{2}\\ln|\\boldsymbol{R}^{(k)}|-\\frac{1}{2}\\{\\mathrm{Tr}(\\hat{\\boldsymbol{W}}^{(k)^{-1}}\\boldsymbol{R}^{(k)})\\}\n",
    "\\\\\n",
    "=&\\sum_{k=1}^K \\ln \\mathcal{NW}(\\boldsymbol{\\mu}^{(k)},\\boldsymbol{R}^{(k)}|\\hat{\\boldsymbol{\\mu}}^{(k)},\\hat{\\beta}^{(k)},\\hat{\\nu}^{(k)},\\hat{\\boldsymbol{W}}^{(k)})\n",
    "\\end{align}\n",
    "$$\n",
    "$$\n",
    "\\left\\{\n",
    "\\begin{align}\n",
    "\\hat{\\boldsymbol{\\mu}}^{(k)}=&\\frac{\\sum_{t=1}^T\\langle s_t^{(k)}\\rangle \\boldsymbol{y}_t +\\beta^{(k)}\\boldsymbol{\\mu}_0^{(k)}}{\\hat{\\beta}^{(k)}}\n",
    "\\\\\n",
    "\\hat{\\beta}^{(k)}=&\\beta^{(k)}+\\sum_t^T\\langle s_t^{(k)}\\rangle\n",
    "\\\\\n",
    "\\hat{\\nu}^{(k)}=&\\nu^{(k)}+\\sum_t^T\\langle s_t^{(k)}\\rangle\n",
    "\\\\\n",
    "\\hat{\\boldsymbol{W}}^{(k)^{-1}}=&\\boldsymbol{W}^{(k)^{-1}}+\\sum_t^T\\langle s_t^{(k)}\\rangle\\boldsymbol{y}_t\\boldsymbol{y}_t^\\top+\\beta^{(k)} \\boldsymbol{\\mu}_0^{(k)}\\boldsymbol{\\mu}_0^{(k)^\\top}-\\hat{\\beta}^{(k)}\\hat{\\boldsymbol{\\mu}}^{(k)}\\hat{\\boldsymbol{\\mu}}^{(k)^\\top}\n",
    "\\end{align}\n",
    "\\right .\n",
    "$$\n",
    "### expectations\n",
    "$$\n",
    "\\begin{align}\n",
    "\\langle \\boldsymbol{R}^{(k)} \\rangle=&\\hat{\\nu}^{(k)} \\hat{\\boldsymbol{W}}^{(k)}\n",
    "\\\\\n",
    "\\langle \\boldsymbol{R}^{(k)}\\boldsymbol{\\mu}^{(k)} \\rangle =&\\hat{\\nu}^{(k)} \\hat{\\boldsymbol{W}}^{(k)} \\hat{\\boldsymbol{m}}^{(k)}\n",
    "\\\\\n",
    "\\langle \\boldsymbol{\\mu}^{(k)^T} \\boldsymbol{R}^{(k)}\\boldsymbol{\\mu}^{(k)} \\rangle =&\\hat{\\nu}^{(k)} \\hat{\\boldsymbol{m}}^{(k)^T}\\hat{\\boldsymbol{W}}^{(k)} \\hat{\\boldsymbol{m}}^{(k)}+\\frac{D}{\\hat{\\beta}^{(k)}}\n",
    "\\\\\n",
    "\\langle \\ln |\\boldsymbol{R}^{(k)}| \\rangle =&\\sum_{d=1}^{D}\\psi(\\frac{\\hat{\\nu}^{(k)}+1-d}{2})+D\\ln 2 + \\ln|\\hat{\\boldsymbol{W}}^{(k)}|\n",
    "\\\\\n",
    "\\psi(x)&=\\frac{\\mathrm{d}}{\\mathrm{d}x}\\Gamma(x)\n",
    "\\\\\n",
    "\\Gamma(x)&=\\int t^{x-1}\\mathrm{e}^{-t} \\mathrm{d}t\n",
    "\\end{align}\n",
    "$$# q(μ, R)\n",
    "$$\n",
    "\\begin{align}\n",
    "\\ln q(\\boldsymbol{\\mu},\\boldsymbol{R})=&\\langle\\ln p(\\boldsymbol{Y}|\\boldsymbol{S},\\boldsymbol{\\mu},\\boldsymbol{R})\\rangle_{q(\\boldsymbol{S})}+\\ln p(\\boldsymbol{\\mu},\\boldsymbol{R})+C\n",
    "\\\\\n",
    "=&\\langle\\sum_{t=1}^\\top\\sum_{k=1}^Ks_t^{(k)}\\ln\\mathcal{N}(\\boldsymbol{y}_t|\\mu^{(k)},\\boldsymbol{R}^{(k)^{-1}})\\rangle_{q(S)}+\\sum_{k=1}^{K}\\ln\\mathcal{NW}(\\mu^{(k)},\\boldsymbol{R}^{(k)}|\\beta^{(k)},\\boldsymbol{\\mu}_0^{(k)},\\nu^{(k)},\\boldsymbol{W}^{(k)})+C\n",
    "\\\\\n",
    "=&\\sum_{k=1}^K\\{\\sum_{t=1}^t\\langle s_t^{(k)}\\rangle\\ln\\mathcal{N}(\\boldsymbol{y}_t|\\boldsymbol{\\mu}^{(k)},\\boldsymbol{R}^{(k)^{-1}})+\\ln\\mathcal{NW}(\\boldsymbol{\\mu}^{(k)},\\boldsymbol{R}^{(k)}|\\beta^{(k)},\\boldsymbol{\\mu}_0^{(k)},\\nu^{(k)},\\boldsymbol{W}^{(k)})\\}+C\n",
    "\\\\\n",
    "=&\\sum_k^K\\big{\\{}-\\frac{1}{2}\\sum_t^\\top\\langle s_t^{(k)}\\rangle\\{(\\boldsymbol{y}_t-\\boldsymbol{\\mu}^{(k)})^\\top\\boldsymbol{R}^{(k)}(\\boldsymbol{y}_t-\\boldsymbol{\\mu}^{(k)}) -\\ln |\\boldsymbol{R}^{(k)}|\\}-\\frac{1}{2}\\{(\\boldsymbol{\\mu}^{(k)}-\\boldsymbol{\\mu}_0^{(k)})^\\top\\beta^{(k)}\\boldsymbol{R}^{(k)}(\\boldsymbol{\\mu}^{(k)}-\\boldsymbol{\\mu}_0^{(k)})-\\ln|\\beta^{(k)}\\boldsymbol{R}^{(k)}|\\}\n",
    "\\\\\n",
    "&+\\frac{\\nu^{(k)}-D-1}{2} \\ln|\\boldsymbol{R}^{(k)}|-\\frac{1}{2}\\mathrm{Tr}(\\boldsymbol{W}^{(k)^{-1}}\\boldsymbol{R}^{(k)}))\\big\\}+C\n",
    "\\\\\n",
    "=&\\sum_k^K-\\frac{1}{2}\\big{\\{}(\\sum_t^\\top\\langle s_t\\rangle+\\beta^{(k)})\\boldsymbol{\\mu}^{(k)^\\top}\\boldsymbol{R}^{(k)}\\boldsymbol{\\mu}^{(k)}-2(\\sum_t^T\\langle s_t^{(k)}\\rangle \\boldsymbol{y}_t +\\beta^{(k)} \\boldsymbol{\\mu}_0^{(k)^\\top})\\boldsymbol{R}^{(k)} \\boldsymbol{\\mu}^{(k)}\\big{\\}}\n",
    "+\\frac{\\nu+\\sum_t^T\\langle s_t\\rangle-D-1}{2}\\ln|\\boldsymbol{R}^{(k)}|+\\frac{1}{2}\\ln|\\beta \\boldsymbol{R}^{(k)}|\n",
    "\\\\\n",
    "&-\\frac{1}{2}\\{\\sum_t^T\\langle s_t^{(k)}\\rangle \\boldsymbol{y}_t^\\top\\boldsymbol{R}^{(k)}\\boldsymbol{y}_t+\\beta^{(k)} \\boldsymbol{\\mu}^{(k)^\\top}\\boldsymbol{R}^{(k)} \\boldsymbol{\\mu}_0^{(k)}+\\mathrm{Tr}(\\boldsymbol{W}^{(k)^{-1}}\\boldsymbol{R}^{(k)})\\}+C\n",
    "\\\\\n",
    "=&-\\frac{1}{2}\\big{\\{}(\\boldsymbol{\\mu}^{(k)^\\top}-\\hat{\\boldsymbol{\\mu}}^{(k)})^\\top\\hat{\\beta}^{(k)} \\boldsymbol{R}^{(k)}(\\boldsymbol{\\mu}^{(k)}-\\hat{\\boldsymbol{\\mu}}^{(k)})\\big{\\}}+\\frac{\\hat{\\nu}^{(k)}-D-1}{2}\\ln|\\boldsymbol{R}^{(k)}|+\\frac{1}{2}\\ln|\\beta^{(k)} \\boldsymbol{R}^{(k)}|\n",
    "\\\\\n",
    "&-\\frac{1}{2}\\{\\sum_t^T\\langle s_t^{(k)}\\rangle \\boldsymbol{y}_t^\\top\\boldsymbol{R}^{(k)}\\boldsymbol{y}_t+\\beta^{(k)} \\boldsymbol{\\mu}^{(k)^\\top}\\boldsymbol{R}^{(k)} \\boldsymbol{\\mu}_0^{(k)}+\\mathrm{Tr}(\\boldsymbol{W}^{(k)^{-1}}\\boldsymbol{R}^{(k)})\\}+C\n",
    "\\\\\n",
    "=&-\\frac{1}{2}\\big{\\{}(\\boldsymbol{\\mu}^{(k)^\\top}-\\hat{\\boldsymbol{\\mu}}^{(k)})^\\top\\hat{\\beta}^{(k)}\\boldsymbol{R}^{(k)}(\\boldsymbol{\\mu}^{(k)}-\\hat{\\boldsymbol{\\mu}}^{(k)})\\big{\\}}+\\frac{1}{2}\\ln|\\beta^{(k)} \\boldsymbol{R}^{(k)}|+\\frac{\\hat{\\nu}^{(k)}-D-1}{2}\\ln|\\boldsymbol{R}^{(k)}|-\\frac{1}{2}\\{\\mathrm{Tr}(\\hat{\\boldsymbol{W}}^{(k)^{-1}}\\boldsymbol{R}^{(k)})\\}\n",
    "\\\\\n",
    "=&\\sum_{k=1}^K \\ln \\mathcal{NW}(\\boldsymbol{\\mu}^{(k)},\\boldsymbol{R}^{(k)}|\\hat{\\boldsymbol{\\mu}}^{(k)},\\hat{\\beta}^{(k)},\\hat{\\nu}^{(k)},\\hat{\\boldsymbol{W}}^{(k)})\n",
    "\\end{align}\n",
    "$$\n",
    "$$\n",
    "\\left\\{\n",
    "\\begin{align}\n",
    "\\hat{\\boldsymbol{\\mu}}^{(k)}=&\\frac{\\sum_{t=1}^T\\langle s_t^{(k)}\\rangle \\boldsymbol{y}_t +\\beta^{(k)}\\boldsymbol{\\mu}_0^{(k)}}{\\hat{\\beta}^{(k)}}\n",
    "\\\\\n",
    "\\hat{\\beta}^{(k)}=&\\beta^{(k)}+\\sum_t^T\\langle s_t^{(k)}\\rangle\n",
    "\\\\\n",
    "\\hat{\\nu}^{(k)}=&\\nu^{(k)}+\\sum_t^T\\langle s_t^{(k)}\\rangle\n",
    "\\\\\n",
    "\\hat{\\boldsymbol{W}}^{(k)^{-1}}=&\\boldsymbol{W}^{(k)^{-1}}+\\sum_t^T\\langle s_t^{(k)}\\rangle\\boldsymbol{y}_t\\boldsymbol{y}_t^\\top+\\beta^{(k)} \\boldsymbol{\\mu}_0^{(k)}\\boldsymbol{\\mu}_0^{(k)^\\top}-\\hat{\\beta}^{(k)}\\hat{\\boldsymbol{\\mu}}^{(k)}\\hat{\\boldsymbol{\\mu}}^{(k)^\\top}\n",
    "\\end{align}\n",
    "\\right .\n",
    "$$\n",
    "### expectations\n",
    "$$\n",
    "\\begin{align}\n",
    "\\langle \\boldsymbol{R}^{(k)} \\rangle=&\\hat{\\nu}^{(k)} \\hat{\\boldsymbol{W}}^{(k)}\n",
    "\\\\\n",
    "\\langle \\boldsymbol{R}^{(k)}\\boldsymbol{\\mu}^{(k)} \\rangle =&\\hat{\\nu}^{(k)} \\hat{\\boldsymbol{W}}^{(k)} \\hat{\\boldsymbol{m}}^{(k)}\n",
    "\\\\\n",
    "\\langle \\boldsymbol{\\mu}^{(k)^T} \\boldsymbol{R}^{(k)}\\boldsymbol{\\mu}^{(k)} \\rangle =&\\hat{\\nu}^{(k)} \\hat{\\boldsymbol{m}}^{(k)^T}\\hat{\\boldsymbol{W}}^{(k)} \\hat{\\boldsymbol{m}}^{(k)}+\\frac{D}{\\hat{\\beta}^{(k)}}\n",
    "\\\\\n",
    "\\langle \\ln |\\boldsymbol{R}^{(k)}| \\rangle =&\\sum_{d=1}^{D}\\psi(\\frac{\\hat{\\nu}^{(k)}+1-d}{2})+D\\ln 2 + \\ln|\\hat{\\boldsymbol{W}}^{(k)}|\n",
    "\\\\\n",
    "\\psi(x)&=\\frac{\\mathrm{d}}{\\mathrm{d}x}\\Gamma(x)\n",
    "\\\\\n",
    "\\Gamma(x)&=\\int t^{x-1}\\mathrm{e}^{-t} \\mathrm{d}t\n",
    "\\end{align}\n",
    "$$"
   ]
  },
  {
   "cell_type": "markdown",
   "metadata": {},
   "source": [
    "# q(π)\n",
    "$$\n",
    "\\begin{align}\n",
    "\\ln q(\\boldsymbol{\\pi})=&\\langle \\ln p(\\boldsymbol{S}|\\boldsymbol{\\pi},\\boldsymbol{A}) \\rangle_{q(\\boldsymbol{S}),q(\\boldsymbol{\\pi})}+\\ln p(\\boldsymbol{\\pi})+C\n",
    "\\\\\n",
    "=&\\langle \\ln\\mathrm{Cat}(s_1|\\boldsymbol{\\pi})\\rangle_{q(S)}+\\ln\\mathrm{Dir}(\\boldsymbol{\\pi}|\\alpha_{\\boldsymbol{\\pi}}) + C\n",
    "\\\\\n",
    "=&\\sum_k^K\\{\\langle s_1^{(k)}\\rangle  \\ln \\pi^{(k)}+(\\alpha_{\\pi}^{((k)^{−1}})\\ln\\pi^{(k)}\\}+C\n",
    "\\\\\n",
    "=&\\sum_k^K(\\langle s_1^{(k)}\\rangle +\\alpha_{\\pi}^{(k)^{−1}})\\ln\\pi^{(k)}+C\n",
    "\\\\\n",
    "=&\\ln\\mathrm{Dir}(\\boldsymbol{\\pi}|\\hat{\\boldsymbol{\\alpha}}_{\\boldsymbol{\\pi}})\n",
    "\\\\\n",
    "\\\\\n",
    "q(\\boldsymbol{\\pi})=&\\mathrm{Dir}(\\boldsymbol{\\pi}|\\hat{\\boldsymbol{\\alpha}}_{\\boldsymbol{\\pi}})\n",
    "\\\\\n",
    "\\hat{\\boldsymbol{\\alpha}}_{\\boldsymbol{\\pi}}&=\\boldsymbol{\\alpha}_{\\boldsymbol{\\boldsymbol{\\pi}}}+\\langle \\boldsymbol{s}_1 \\rangle\n",
    "\\end{align}\n",
    "$$"
   ]
  },
  {
   "cell_type": "markdown",
   "metadata": {},
   "source": [
    "# q(A)\n",
    "$$\\begin{align}\n",
    "\\ln q(\\boldsymbol{A}))=&\\langle \\ln p(\\boldsymbol{S}|\\boldsymbol{\\pi},\\boldsymbol{A})\\rangle_{q(\\boldsymbol{S}),q(A)}+\\ln p(\\boldsymbol{A})+C\n",
    "\\\\\n",
    "=&\\langle\\sum_{t=2}^T\\ln\\mathrm{Cat}(S_t|S_{t−1},A)\\rangle+\\ln\\mathrm{Dir}(A|\\alpha_{A})+C\n",
    "\\\\\n",
    "=&\\langle\\sum_{t=2}^T\\sum_{i=1}^K\\sum_{j=1}^K s_t^{(j)}s_{t−1}^{(i)}\\ln A^{(j,i)}\\rangle+\\sum_{i=1}^K\\sum_{j=1}^K(\\alpha_{A}^{(j,i)}−1)\\ln A^{(j,i)}+C\n",
    "\\\\\n",
    "=&\\sum_{i=1}^{K}\\sum_{j=1}^{K}\\{(\\sum_{t=2}^{T}\\langle s_t^{(j)} s_{t−1}^{(i)}\\rangle+\\alpha_{A}^{(j,i)}−1)\\ln A^{(j,i)}\\}+C\n",
    "\\\\\n",
    "=&\\ln\\mathrm{Dir}(\\boldsymbol{A}|\\boldsymbol{\\hat{\\alpha}}_{A})\n",
    "\\\\\n",
    "\\\\\n",
    "q(\\boldsymbol{A})=&\\mathrm{Dir}(\\boldsymbol{A}|\\hat{\\boldsymbol{\\alpha}}_A)\n",
    "\\\\\n",
    "\\hat{\\boldsymbol{\\alpha}}_A&=\\boldsymbol{\\alpha}_{A}+\\sum_{t=2}^T\\langle \\boldsymbol{s}_{t} \\boldsymbol{s}_{t−1}\\rangle\n",
    "\\end{align}\n",
    "$$\n"
   ]
  },
  {
   "cell_type": "markdown",
   "metadata": {},
   "source": [
    "# q(S)\n",
    "## Forward backword algorithm"
   ]
  },
  {
   "cell_type": "markdown",
   "metadata": {
    "collapsed": true
   },
   "source": [
    "$$\n",
    "\\begin{align}\n",
    "\\tilde{p}(\\boldsymbol{y}_t|\\boldsymbol{s}_t)=&\\exp\\{\\langle \\ln p(\\boldsymbol{y}_t|\\boldsymbol{s}_{t}, \\boldsymbol{\\mu}, \\boldsymbol{R})\\rangle\\}\n",
    "\\\\\n",
    "\\tilde{p}(\\boldsymbol{s}_t|\\boldsymbol{s}_{t-1})=&\\exp\\{\\langle \\ln p(\\boldsymbol{s}_t|\\boldsymbol{s}_{t-1}, \\boldsymbol{A})\\rangle \\}\n",
    "\\end{align}\n",
    "$$\n",
    "### Forward\n",
    "$$\n",
    "\\begin{align}\n",
    "\\mathrm{fwd}(\\boldsymbol{s}_t)\n",
    "=&\\frac{\\tilde{p}(\\boldsymbol{y}_t|\\boldsymbol{s}_t) \\sum_{\\boldsymbol{s}_{t-1}} \\mathrm{fwd}(\\boldsymbol{s}_{t - 1})\\tilde{p}(\\boldsymbol{s}_t|\\boldsymbol{s}_{t-1})} {\\sum \\mathrm{fwd}(\\boldsymbol{s}_t)}\n",
    "\\\\\n",
    "=&\\frac{\\exp\\{\\langle \\ln p(\\boldsymbol{y}_t|\\boldsymbol{s}_{t}, \\boldsymbol{\\mu}, \\boldsymbol{R})\\rangle\\} \\sum_{\\boldsymbol{s}_{t-1}} \\mathrm{fwd}(\\boldsymbol{s}_{t - 1})\\exp\\{\\langle \\ln p(\\boldsymbol{s}_t|\\boldsymbol{s}_{t-1}, \\boldsymbol{A})\\rangle \\}}{\\sum_{t=1}^{T} \\mathrm{fwd}(\\boldsymbol{s}_t)}\n",
    "\\\\\n",
    "\\mathrm{fwd}(\\boldsymbol{s}_0)=&\\exp\\{\\langle \\ln {p}(\\boldsymbol{y}_t|\\boldsymbol{s}_0)\\rangle\\} \\exp\\{\\langle \\ln {p}(\\boldsymbol{s}_0|\\boldsymbol{\\pi})\\rangle \\}\n",
    "\\end{align}\n",
    "$$\n",
    "#### log form\n",
    "$$\n",
    "\\begin{align}\n",
    "\\ln \\mathrm{fwd}(\\boldsymbol{s}_t) = &\\langle \\ln p(\\boldsymbol{y}_t|\\boldsymbol{s}_{t}, \\boldsymbol{\\mu}, \\boldsymbol{R})\\rangle + \\ln \\sum_{i=1}^{K} \\exp \\{\\ln\\mathrm{fwd}(s_{t - 1}^{(i)}) + \\langle \\ln p(\\boldsymbol{s}_t | s_{t-1}^{(i)}, \\boldsymbol{A}_{:,i})\\rangle \\} - \\ln \\sum_{t=1}^{t} \\exp \\{\\ln \\mathrm{fwd}(\\boldsymbol{s}_t)\\}\n",
    "\\\\\n",
    "\\ln \\mathrm{fwd}(\\boldsymbol{s}_0)=&\\langle \\ln {p}(\\boldsymbol{y}_t|\\boldsymbol{s}_0)\\rangle + \\langle \\ln {p}(\\boldsymbol{s}_0|\\boldsymbol{\\pi})\\rangle\n",
    "\\end{align}\n",
    "$$"
   ]
  },
  {
   "cell_type": "markdown",
   "metadata": {
    "collapsed": true
   },
   "source": [
    "### backward\n",
    "$$\n",
    "\\begin{align}\n",
    "\\mathrm{bwd}(\\boldsymbol{s}_t)=&\\sum_{\\boldsymbol{S}_{t+1}}\\mathrm{bwd}(\\boldsymbol{s}_{t+1})\\tilde{p}(\\boldsymbol{y}_{t+1}|\\boldsymbol{s}_{t+1})\\tilde{p}(\\boldsymbol{s}_{t+1}|\\boldsymbol{s}_t)\n",
    "\\\\\n",
    "=&\\sum_{\\boldsymbol{S}_{t+1}}\\mathrm{bwd}(\\boldsymbol{s}_{t+1})\\exp\\{\\langle\\ln p(\\boldsymbol{y}_t|\\boldsymbol{s}_t,\\boldsymbol{\\mu},\\boldsymbol{R})\\rangle\\}\\exp\\{\\langle\\ln p(\\boldsymbol{s}_t|\\boldsymbol{s}_{t−1},\\boldsymbol{\\boldsymbol{\\pi}},\\boldsymbol{A})\\rangle\\}\n",
    "\\\\\n",
    "\\mathrm{bwd}(\\boldsymbol{s}_T)=1\n",
    "\\end{align}\n",
    "$$\n",
    "#### log form\n",
    "$$\n",
    "\\begin{align}\n",
    "\\ln \\mathrm{bwd}(\\boldsymbol{s}_t)=&\\ln \\sum_{j=1}^K [\\exp\\{\\ln \\mathrm{bwd}(s_{t+1}^{(j)})+\\langle\\ln p(\\boldsymbol{y}_{t+1}|s_{t+1}^{(j)},\\boldsymbol{\\mu}^{(j)},\\boldsymbol{R}^{(j)})\\rangle\\}+\\langle\\ln p(\\boldsymbol{s}_{t+1}|s_t^{(j)},\\boldsymbol{A}_{j,:})\\rangle]\n",
    "\\\\\n",
    "\\ln \\mathrm{bwd}(\\boldsymbol{s}_T)=&0\n",
    "\\end{align}\n",
    "$$"
   ]
  },
  {
   "cell_type": "markdown",
   "metadata": {
    "collapsed": true
   },
   "source": [
    "### Expectations\n",
    "$$\n",
    "\\begin{align}\n",
    "\\langle \\boldsymbol{s}_t \\rangle =& \\mathrm{fwd}(\\boldsymbol{s}_t)\\mathrm{bwd}(\\boldsymbol{s}_t)\n",
    "\\\\\n",
    "\\langle \\boldsymbol{s}_{t}\\boldsymbol{s}_{t−1} \\rangle =& \\frac{\\mathrm{fwd}(\\boldsymbol{s}_{t−1}) \\tilde p(\\boldsymbol{y}_t|\\boldsymbol{s}_t) \\tilde p(\\boldsymbol{s}_t|\\boldsymbol{s}_{t−1}) \\mathrm{bwd}(\\boldsymbol{s}_t)}{p(\\boldsymbol{Y})}\n",
    "\\\\\n",
    "p(\\boldsymbol{Y})&=\\sum_{\\boldsymbol{S}_{1:T}} \\mathrm{fwd}(\\boldsymbol{s}_t)\n",
    "\\end{align}$$"
   ]
  },
  {
   "cell_type": "code",
   "execution_count": null,
   "metadata": {
    "collapsed": true
   },
   "outputs": [],
   "source": []
  },
  {
   "cell_type": "code",
   "execution_count": null,
   "metadata": {
    "collapsed": true
   },
   "outputs": [],
   "source": []
  },
  {
   "cell_type": "code",
   "execution_count": null,
   "metadata": {
    "collapsed": true
   },
   "outputs": [],
   "source": []
  },
  {
   "cell_type": "code",
   "execution_count": null,
   "metadata": {
    "collapsed": true
   },
   "outputs": [],
   "source": []
  },
  {
   "cell_type": "code",
   "execution_count": null,
   "metadata": {
    "collapsed": true
   },
   "outputs": [],
   "source": []
  },
  {
   "cell_type": "code",
   "execution_count": null,
   "metadata": {
    "collapsed": true
   },
   "outputs": [],
   "source": []
  },
  {
   "cell_type": "code",
   "execution_count": null,
   "metadata": {
    "collapsed": true
   },
   "outputs": [],
   "source": []
  }
 ],
 "metadata": {
  "kernelspec": {
   "display_name": "Python 2",
   "language": "python",
   "name": "python2"
  },
  "language_info": {
   "codemirror_mode": {
    "name": "ipython",
    "version": 2
   },
   "file_extension": ".py",
   "mimetype": "text/x-python",
   "name": "python",
   "nbconvert_exporter": "python",
   "pygments_lexer": "ipython2",
   "version": "2.7.15"
  }
 },
 "nbformat": 4,
 "nbformat_minor": 2
}
