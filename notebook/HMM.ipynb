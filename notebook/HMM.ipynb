{
 "cells": [
  {
   "cell_type": "markdown",
   "metadata": {},
   "source": [
    "# Model\n",
    "\n",
    "$$\\begin{align}\n",
    "p(\\boldsymbol{Y},\\boldsymbol{S},\\boldsymbol{\\mu},\\boldsymbol{R},\\boldsymbol{\\pi},\\boldsymbol{A})=&p(\\boldsymbol{Y}|\\boldsymbol{S},\\boldsymbol{\\mu},\\boldsymbol{R})p(\\boldsymbol{S}|\\boldsymbol{\\pi},\\boldsymbol{A})p(\\boldsymbol{\\pi})p(\\boldsymbol{A})p(\\boldsymbol{\\mu},\\boldsymbol{R})\n",
    "\\\\\n",
    "p(\\boldsymbol{Y}|\\boldsymbol{S},\\boldsymbol{\\mu},\\boldsymbol{R})&=\\prod_t^T\\prod_k^K\\mathcal{N}(\\boldsymbol{y}_t|\\boldsymbol{\\mu}^{(k)},\\boldsymbol{R}^{(k)^{−1}})^{s_t^{(k)}}\n",
    "\\\\\n",
    "p(\\boldsymbol{S}|\\boldsymbol{\\pi},\\boldsymbol{A})&=\\mathrm{Cat}(\\boldsymbol{s}_1|\\boldsymbol{\\pi})\\prod_{t=2}^{T}\\mathrm{Cat}(\\boldsymbol{s}_t|\\boldsymbol{s}_{t−1},\\boldsymbol{A})\n",
    "\\\\\n",
    "p(\\boldsymbol{\\pi})&=\\mathrm{Dir}(\\boldsymbol{\\pi}|\\boldsymbol{\\alpha}_{\\boldsymbol{\\pi}})\n",
    "\\\\\n",
    "p(\\boldsymbol{A})&=\\mathrm{Dir}(\\boldsymbol{A}|\\boldsymbol{\\alpha}_{A})\n",
    "\\\\\n",
    "p(\\boldsymbol{\\mu},\\boldsymbol{R})&=\\prod_{k=1}^{K}\\mathcal{NW}(\\boldsymbol{\\mu}_{k},\\boldsymbol{R}_{k}|\\beta_{k},\\boldsymbol{\\mu}_{0_k},\\nu_{k},\\boldsymbol{W}_{k})\n",
    "\\end{align}\n",
    "$$"
   ]
  },
  {
   "cell_type": "markdown",
   "metadata": {},
   "source": [
    "# Variatioal Inference"
   ]
  },
  {
   "cell_type": "markdown",
   "metadata": {},
   "source": [
    "$$\n",
    "\\begin{align}\n",
    "p(\\boldsymbol{S},\\boldsymbol{\\mu},\\boldsymbol{R},\\boldsymbol{\\pi},\\boldsymbol{A}|\\boldsymbol{Y})\\approx & q(\\boldsymbol{S})q(\\boldsymbol{\\mu},\\boldsymbol{R},\\boldsymbol{\\pi},\\boldsymbol{A})\n",
    "\\\\\n",
    "\\ln q(\\boldsymbol{S})&=\\langle\\ln\n",
    "p(\\boldsymbol{Y}|\\boldsymbol{S},\\boldsymbol{\\mu},\\boldsymbol{R})\\rangle_{q(\\boldsymbol{\\mu},\\boldsymbol{R})}+\\langle\\ln p(\\boldsymbol{S}|\\boldsymbol{\\pi},\\boldsymbol{A})\\rangle_{q(\\boldsymbol{\\pi},\\boldsymbol{A})} +C\n",
    "\\\\\n",
    "\\ln q(\\boldsymbol{\\mu},\\boldsymbol{R})&=\\langle\\ln p(\\boldsymbol{Y}|\\boldsymbol{S},\\boldsymbol{\\mu},\\boldsymbol{R})\\rangle_{q(\\boldsymbol{S})}+\\ln p(\\boldsymbol{\\mu},\\boldsymbol{R}) +C\n",
    "\\\\\n",
    "\\ln q(\\boldsymbol{\\pi})&=\\langle \\ln p(\\boldsymbol{S}|\\boldsymbol{\\pi},\\boldsymbol{A}) \\rangle_{q(\\boldsymbol{S}),q(\\boldsymbol{\\pi})}+\\ln p(\\boldsymbol{\\pi})+C\n",
    "\\\\\n",
    "\\ln q(\\boldsymbol{A}))&=\\langle \\ln p(\\boldsymbol{S}|\\boldsymbol{\\pi},\\boldsymbol{A})\\rangle_{q(\\boldsymbol{S}),q(A)}+\\ln p(\\boldsymbol{A})+C\n",
    "\\end{align}\n",
    "$$"
   ]
  },
  {
   "cell_type": "markdown",
   "metadata": {},
   "source": [
    "# q(μ,R)\n",
    "$$\\begin{align}\n",
    "\\ln q(\\boldsymbol{\\mu}_k,\\boldsymbol{R}_k)=&\\langle\\ln p(\\boldsymbol{Y}|\\boldsymbol{S},\\boldsymbol{\\mu}_k,\\boldsymbol{R}_k)\\rangle_{q(\\boldsymbol{S})}+\\ln p(\\boldsymbol{\\mu}_k,\\boldsymbol{R}_k) +C\n",
    "\\\\\n",
    "=&\\langle\\sum_{t=1}^T\\sum_{k=1}^K s_t^{(k)}\\ln\\mathcal{N}(\\boldsymbol{y}_t|\\boldsymbol{\\mu}_k,\\boldsymbol{R}_k^{−1})\\rangle_{q(S)}+\\sum_{k=1}^{K}\\ln\\mathcal{NW}(\\boldsymbol{\\mu}_k,\\boldsymbol{R}_k|\\beta_k,\\boldsymbol{\\mu}_{0_k},\\nu_k,\\boldsymbol{W}_k)+C\n",
    "\\\\\n",
    "=&\\sum_{k=1}^K\\{\\sum_{t=1}^t\\langle s_t^{(k)}\\rangle\\ln\\mathcal{N}(\\boldsymbol{y}_t|\\boldsymbol{\\mu}_k,\\boldsymbol{R}_k^{−1})+\\ln\\mathcal{NW}(\\boldsymbol{\\mu}_k,\\boldsymbol{R}_k|\\beta_k,\\boldsymbol{\\mu}_{0_k},\\nu_k,\\boldsymbol{W}_k)\\}+C\n",
    "\\\\\n",
    "=&\\sum_k^K\\big{\\{}−\\frac{1}{2}\\sum_t^T\\langle s_t^{(k)}\\rangle\\{(\\boldsymbol{y}_t−\\boldsymbol{\\mu}_k)^T\\boldsymbol{R}_k(\\boldsymbol{y}_t−\\boldsymbol{\\mu}_k) −\\ln |\\boldsymbol{R}_k|\\}\n",
    "−\\frac{1}{2}\\{(\\boldsymbol{\\mu}_k−\\boldsymbol{\\mu}_{0_k})^T\\beta_k\\boldsymbol{R}_k(\\boldsymbol{\\mu}_k−\\boldsymbol{\\mu}_{0_k})\n",
    "\\\\\n",
    "&−\\ln|\\beta_k\\boldsymbol{R}_k|\\}+\\frac{\\nu_k−D−1}{2} \\ln|\\boldsymbol{R}_k|−\\frac{1}{2}\\mathrm{Tr}(\\boldsymbol{W}^{(k)^{−1}}\\boldsymbol{R}_k))\\big{\\}}+C\n",
    "\\\\\n",
    "=&\\sum_k^K \\big{[}−\\frac{1}{2}\\big{\\{}(\\sum_t^T\\langle s_t^{(k)}\\rangle +\\beta_k)\\boldsymbol{\\mu}_k^{T}\\boldsymbol{R}_k\\boldsymbol{\\mu}_k−2(\\sum_t^T\\langle s_t^{(k)}\\rangle \\boldsymbol{y}_t +\\beta_k \\boldsymbol{\\mu}_{0_k}^T)\\boldsymbol{R}_k \\boldsymbol{\\mu}_k\\big{\\}}\n",
    "+\\frac{\\nu_k+\\sum_t^T\\langle s_t^{(k)}\\rangle−D−1}{2}\\ln|\\boldsymbol{R}_k|\n",
    "\\\\\n",
    "&+\\frac{1}{2}\\ln|\\beta_k \\boldsymbol{R}_k|−\\frac{1}{2}\\{\\sum_t^T\\langle s_t^{(k)}\\rangle \\boldsymbol{y}_t^T\\boldsymbol{R}_k\\boldsymbol{y}_t+\\beta_k \\boldsymbol{\\mu}_{0_k}^T\\boldsymbol{R}_k \\boldsymbol{\\mu}_{0_k} +\\mathrm{Tr}(\\boldsymbol{W}^{−1}\\boldsymbol{R}_k)\\}\\big{]}+C\n",
    "\\\\\n",
    "=&\\sum_k^K \\big{[}−\\frac{1}{2}\\big{\\{}(\\boldsymbol{\\mu}_k^{T}−\\hat{\\boldsymbol{\\mu}}_k)^T\\hat{\\beta}_k \\boldsymbol{R}_k(\\boldsymbol{\\mu}_k−\\hat{\\boldsymbol{\\mu}}_k)\\big{\\}}\n",
    "+\\frac{\\hat{\\nu}_k−D−1}{2}\\ln|\\boldsymbol{R}_k|\n",
    "\\\\\n",
    "&+\\frac{1}{2}\\ln|\\beta_k \\boldsymbol{R}_k|\n",
    "−\\frac{1}{2}\\{\\sum_t^T\\langle s_t^{(k)}\\rangle \\boldsymbol{y}_t^T\\boldsymbol{R}_k\\boldsymbol{y}_t+\\beta_k \\boldsymbol{\\mu}_{0_k}^T\\boldsymbol{R}_k \\boldsymbol{\\mu}_{0_k} −\\hat{\\beta}_k\\hat{\\boldsymbol{\\mu}}_k^T\\boldsymbol{R}_k\\hat{\\boldsymbol{\\mu}}_k+\\mathrm{Tr}(\\boldsymbol{W}_k^{−1}\\boldsymbol{R}_k)\\}\\big{]}+C\n",
    "\\\\\n",
    "=&\\sum_k^K\\big{[}−\\frac{1}{2}\\big{\\{}(\\boldsymbol{\\mu}_k^{T}−\\hat{\\boldsymbol{\\mu}}_k)^T\\hat{\\beta}_k\\boldsymbol{R}_k(\\boldsymbol{\\mu}_k−\\hat{\\boldsymbol{\\mu}}_k)\\big{\\}}+\\frac{1}{2}\\ln|\\beta_k \\boldsymbol{R}_k|+\\frac{\\hat{\\nu}_k−D−1}{2}\\ln|\\boldsymbol{R}_k|−\\frac{1}{2}\\{\\mathrm{Tr}(\\hat{\\boldsymbol{W}_k^{−1}}\\boldsymbol{R}_k)\\big{]}\\}\n",
    "\\\\\n",
    "\\\\\n",
    "q(\\boldsymbol{\\mu}_k,\\boldsymbol{R}_k)=&\\prod_{k=1}^K \\mathcal{NW}(\\boldsymbol{\\mu}_k,\\boldsymbol{R}_k|\\hat{\\boldsymbol{\\mu}}_{0_k},\\hat{\\beta}_k,\\hat{\\nu}_k,\\hat{\\boldsymbol{W}_k})\n",
    "\\\\\\\\&\n",
    "\\left\\{\\begin{matrix}\n",
    "\\hat{\\beta}_k=&\\sum_t^T\\langle s_t^{(k)}\\rangle +\\beta_k\n",
    "\\\\\n",
    "\\hat{\\boldsymbol{\\mu}}_k=&\\frac{\\sum_{t=1}^T\\langle s_t^{(k)}\\rangle \\boldsymbol{y}_t +\\beta_k\\boldsymbol{\\mu}_{0_k}}{\\hat{\\beta}_k}\n",
    "\\\\\n",
    "\\hat{\\nu_k}=&\\nu_k+\\sum_t^T\\langle s_t^{(k)}\\rangle\n",
    "\\\\\n",
    "\\hat{\\boldsymbol{W}}_k^{−1}=&\\sum_t^T\\langle s_t^{(k)}\\rangle \\boldsymbol{y}_t\\boldsymbol{y}_t^T+\\beta_k\\boldsymbol{\\mu}_{0_k}\\boldsymbol{\\mu}_{0_k}^T −\\hat{\\beta}_k\\hat{\\boldsymbol{\\mu}}_{0_k}\\hat{\\boldsymbol{\\mu}}_{0_k}^T+\\boldsymbol{W}_k^{−1}\n",
    "\\end{matrix} \\right.\n",
    "\\end{align}$$"
   ]
  },
  {
   "cell_type": "markdown",
   "metadata": {},
   "source": [
    "# q(π)\n",
    "$$\n",
    "\\begin{align}\n",
    "\\ln q(\\boldsymbol{\\pi})=&\\langle \\ln p(\\boldsymbol{S}|\\boldsymbol{\\pi},\\boldsymbol{A}) \\rangle_{q(\\boldsymbol{S}),q(\\boldsymbol{\\pi})}+\\ln p(\\boldsymbol{\\pi})+C\n",
    "\\\\\n",
    "=&\\langle \\ln\\mathrm{Cat}(s_1|\\boldsymbol{\\pi})\\rangle_{q(S)}+\\ln\\mathrm{Dir}(\\boldsymbol{\\pi}|\\alpha_{\\boldsymbol{\\pi}}) + C\n",
    "\\\\\n",
    "=&\\sum_k^K\\{\\langle s_1^{(k)}\\rangle  \\ln \\pi^{(k)}+(\\alpha_{\\pi}^{((k)^{−1}})\\ln\\pi^{(k)}\\}+C\n",
    "\\\\\n",
    "=&\\sum_k^K(\\langle s_1^{(k)}\\rangle +\\alpha_{\\pi}^{(k)^{−1}})\\ln\\pi^{(k)}+C\n",
    "\\\\\n",
    "=&\\ln\\mathrm{Dir}(\\boldsymbol{\\pi}|\\hat{\\boldsymbol{\\alpha}}_{\\boldsymbol{\\pi}})\n",
    "\\\\\n",
    "\\\\\n",
    "q(\\boldsymbol{\\pi})=&\\mathrm{Dir}(\\boldsymbol{\\pi}|\\hat{\\boldsymbol{\\alpha}}_{\\boldsymbol{\\pi}})\n",
    "\\\\\n",
    "\\hat{\\boldsymbol{\\alpha}}_{\\boldsymbol{\\pi}}&=\\langle \\boldsymbol{s}_1 \\rangle + \\boldsymbol{\\alpha}_{\\boldsymbol{\\boldsymbol{\\pi}}}\n",
    "\\end{align}\n",
    "$$"
   ]
  },
  {
   "cell_type": "markdown",
   "metadata": {},
   "source": [
    "# q(A)\n",
    "$$\\begin{align}\n",
    "\\ln q(\\boldsymbol{A}))=&\\langle \\ln p(\\boldsymbol{S}|\\boldsymbol{\\pi},\\boldsymbol{A})\\rangle_{q(\\boldsymbol{S}),q(A)}+\\ln p(\\boldsymbol{A})+C\n",
    "\\\\\n",
    "=&\\langle\\sum_{t=2}^T\\ln\\mathrm{Cat}(S_t|S_{t−1},A)\\rangle+\\ln\\mathrm{Dir}(A|\\alpha_{A})+C\n",
    "\\\\\n",
    "=&\\langle\\sum_{t=2}^T\\sum_{i=1}^K\\sum_{j=1}^K s_t^{(j)}s_{t−1}^{(i)}\\ln A^{(j,i)}\\rangle+\\sum_{i=1}^K\\sum_{j=1}^K(\\alpha_{A}^{(j,i)}−1)\\ln A^{(j,i)}+C\n",
    "\\\\\n",
    "=&\\sum_{i=1}^{K}\\sum_{j=1}^{K}\\{(\\sum_{t=2}^{T}\\langle s_t^{(j)} s_{t−1}^{(i)}\\rangle+\\alpha_{A}^{(j,i)}−1)\\ln A^{(j,i)}\\}+C\n",
    "\\\\\n",
    "=&\\ln\\mathrm{Dir}(\\boldsymbol{A}|\\boldsymbol{\\hat{\\alpha}}_{A})\n",
    "\\\\\n",
    "\\\\\n",
    "q(\\boldsymbol{A})=&\\mathrm{Dir}(\\boldsymbol{A}|\\hat{\\boldsymbol{\\alpha}}_A)\n",
    "\\\\\n",
    "\\hat{\\boldsymbol{\\alpha}}_A&=\\sum_{t=2}^T\\langle \\boldsymbol{s}_{t} \\boldsymbol{s}_{t−1}\\rangle+\\boldsymbol{\\alpha}_{A}\n",
    "\\end{align}\n",
    "$$\n"
   ]
  },
  {
   "cell_type": "markdown",
   "metadata": {},
   "source": [
    "# q(S)\n",
    "## Forward backword algorithm"
   ]
  },
  {
   "cell_type": "markdown",
   "metadata": {
    "collapsed": true
   },
   "source": [
    "$$\n",
    "\\begin{align}\n",
    "\\tilde{p}(\\boldsymbol{y}_t|\\boldsymbol{s}_t)=&\\exp\\{\\langle \\ln p(\\boldsymbol{y}_t|\\boldsymbol{s}_{t}, \\boldsymbol{\\mu}, \\boldsymbol{R})\\rangle\\}\n",
    "\\\\\n",
    "\\tilde{p}(\\boldsymbol{s}_t|\\boldsymbol{s}_{t-1})=&\\exp\\{\\langle \\ln p(\\boldsymbol{s}_t|\\boldsymbol{s}_{t-1}, \\boldsymbol{A})\\rangle \\}\n",
    "\\end{align}\n",
    "$$\n",
    "### Forward\n",
    "$$\n",
    "\\begin{align}\n",
    "\\mathrm{fwd}(\\boldsymbol{s}_t)\n",
    "=&\\frac{\\tilde{p}(\\boldsymbol{y}_t|\\boldsymbol{s}_t) \\sum_{\\boldsymbol{s}_{t-1}} \\mathrm{fwd}(\\boldsymbol{s}_{t - 1})\\tilde{p}(\\boldsymbol{s}_t|\\boldsymbol{s}_{t-1})} {\\sum \\mathrm{fwd}(\\boldsymbol{s}_t)}\n",
    "\\\\\n",
    "=&\\frac{\\exp\\{\\langle \\ln p(\\boldsymbol{y}_t|\\boldsymbol{s}_{t}, \\boldsymbol{\\mu}, \\boldsymbol{R})\\rangle\\} \\sum_{\\boldsymbol{s}_{t-1}} \\mathrm{fwd}(\\boldsymbol{s}_{t - 1})\\exp\\{\\langle \\ln p(\\boldsymbol{s}_t|\\boldsymbol{s}_{t-1}, \\boldsymbol{A})\\rangle \\}}{\\sum_{t=1}^{T} \\mathrm{fwd}(\\boldsymbol{s}_t)}\n",
    "\\\\\n",
    "\\mathrm{fwd}(\\boldsymbol{s}_0)=&\\exp\\{\\langle \\ln {p}(\\boldsymbol{y}_t|\\boldsymbol{s}_0)\\rangle\\} \\exp\\{\\langle \\ln {p}(\\boldsymbol{s}_0|\\boldsymbol{\\pi})\\rangle \\}\n",
    "\\end{align}\n",
    "$$\n",
    "#### log form\n",
    "$$\n",
    "\\begin{align}\n",
    "\\ln \\mathrm{fwd}(\\boldsymbol{s}_t) = &\\langle \\ln p(\\boldsymbol{y}_t|\\boldsymbol{s}_{t}, \\boldsymbol{\\mu}, \\boldsymbol{R})\\rangle + \\ln \\sum_{i=1}^{K} \\exp \\{\\ln\\mathrm{fwd}(s_{t - 1}^{(i)}) + \\langle \\ln p(\\boldsymbol{s}_t | s_{t-1}^{(i)}, \\boldsymbol{A}_{:,i})\\rangle \\} - \\ln \\sum_{t=1}^{t} \\exp \\{\\ln \\mathrm{fwd}(\\boldsymbol{s}_t)\\}\n",
    "\\\\\n",
    "\\ln \\mathrm{fwd}(\\boldsymbol{s}_0)=&\\langle \\ln {p}(\\boldsymbol{y}_t|\\boldsymbol{s}_0)\\rangle + \\langle \\ln {p}(\\boldsymbol{s}_0|\\boldsymbol{\\pi})\\rangle\n",
    "\\end{align}\n",
    "$$"
   ]
  },
  {
   "cell_type": "markdown",
   "metadata": {
    "collapsed": true
   },
   "source": [
    "### backward\n",
    "$$\n",
    "\\begin{align}\n",
    "\\mathrm{bwd}(\\boldsymbol{s}_t)=&\\sum_{\\boldsymbol{S}_{t+1}}\\mathrm{bwd}(\\boldsymbol{s}_{t+1})\\tilde{p}(\\boldsymbol{y}_{t+1}|\\boldsymbol{s}_{t+1})\\tilde{p}(\\boldsymbol{s}_{t+1}|\\boldsymbol{s}_t)\n",
    "\\\\\n",
    "=&\\sum_{\\boldsymbol{S}_{t+1}}\\mathrm{bwd}(\\boldsymbol{s}_{t+1})\\exp\\{\\langle\\ln p(\\boldsymbol{y}_t|\\boldsymbol{s}_t,\\boldsymbol{\\mu},\\boldsymbol{R})\\rangle\\}\\exp\\{\\langle\\ln p(\\boldsymbol{s}_t|\\boldsymbol{s}_{t−1},\\boldsymbol{\\boldsymbol{\\pi}},\\boldsymbol{A})\\rangle\\}\n",
    "\\\\\n",
    "\\mathrm{bwd}(\\boldsymbol{s}_T)=1\n",
    "\\end{align}\n",
    "$$\n",
    "#### log form\n",
    "$$\n",
    "\\begin{align}\n",
    "\\ln \\mathrm{bwd}(\\boldsymbol{s}_t)=&\\ln \\sum_{j=1}^K [\\exp\\{\\ln \\mathrm{bwd}(s_{t+1}^{(j)})+\\langle\\ln p(\\boldsymbol{y}_{t+1}|s_{t+1}^{(j)},\\boldsymbol{\\mu}^{(j)},\\boldsymbol{R}^{(j)})\\rangle\\}+\\langle\\ln p(\\boldsymbol{s}_{t+1}|s_t^{(j)},\\boldsymbol{A}_{j,:})\\rangle]\n",
    "\\\\\n",
    "\\ln \\mathrm{bwd}(\\boldsymbol{s}_T)=&1\n",
    "\\end{align}\n",
    "$$\n",
    "\n",
    "\n"
   ]
  },
  {
   "cell_type": "markdown",
   "metadata": {
    "collapsed": true
   },
   "source": [
    "### Expectations\n",
    "$$\n",
    "\\begin{align}\n",
    "\\langle \\boldsymbol{s}_t \\rangle =& \\mathrm{fwd}(\\boldsymbol{s}_t)\\mathrm{bwd}(\\boldsymbol{s}_t)\n",
    "\\\\\n",
    "\\langle \\boldsymbol{s}_{t}\\boldsymbol{s}_{t−1} \\rangle =& \\frac{\\mathrm{fwd}(\\boldsymbol{s}_{t−1}) \\tilde p(\\boldsymbol{y}_t|\\boldsymbol{s}_t) \\tilde p(\\boldsymbol{s}_t|\\boldsymbol{s}_{t−1}) \\mathrm{bwd}(\\boldsymbol{s}_t)}{p(\\boldsymbol{Y})}\n",
    "\\\\\n",
    "p(\\boldsymbol{Y})&=\\sum_{\\boldsymbol{S}_{1:T}} \\mathrm{fwd}(\\boldsymbol{s}_t)\n",
    "\\end{align}$$"
   ]
  },
  {
   "cell_type": "code",
   "execution_count": null,
   "metadata": {
    "collapsed": true
   },
   "outputs": [],
   "source": []
  },
  {
   "cell_type": "code",
   "execution_count": null,
   "metadata": {
    "collapsed": true
   },
   "outputs": [],
   "source": []
  },
  {
   "cell_type": "code",
   "execution_count": null,
   "metadata": {
    "collapsed": true
   },
   "outputs": [],
   "source": []
  },
  {
   "cell_type": "code",
   "execution_count": null,
   "metadata": {
    "collapsed": true
   },
   "outputs": [],
   "source": []
  },
  {
   "cell_type": "code",
   "execution_count": null,
   "metadata": {
    "collapsed": true
   },
   "outputs": [],
   "source": []
  },
  {
   "cell_type": "code",
   "execution_count": null,
   "metadata": {
    "collapsed": true
   },
   "outputs": [],
   "source": []
  },
  {
   "cell_type": "code",
   "execution_count": null,
   "metadata": {
    "collapsed": true
   },
   "outputs": [],
   "source": []
  }
 ],
 "metadata": {
  "kernelspec": {
   "display_name": "Python 2",
   "language": "python",
   "name": "python2"
  },
  "language_info": {
   "codemirror_mode": {
    "name": "ipython",
    "version": 2
   },
   "file_extension": ".py",
   "mimetype": "text/x-python",
   "name": "python",
   "nbconvert_exporter": "python",
   "pygments_lexer": "ipython2",
   "version": "2.7.15"
  }
 },
 "nbformat": 4,
 "nbformat_minor": 2
}
