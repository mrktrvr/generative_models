{
 "cells": [
  {
   "cell_type": "markdown",
   "metadata": {},
   "source": [
    "# Bayesian Poisson Distribution\n",
    "## model definition\n",
    "$$\n",
    "\\begin{align}\n",
    "p(\\boldsymbol{X},\\lambda) =& p(\\boldsymbol{X}|\\lambda)p(\\lambda)\n",
    "\\\\\n",
    "p(\\boldsymbol{X}|\\lambda)=&\\prod_{n=1}^N \\mathrm{Poi}(x_n|\\lambda) =\\prod_{n=1}^N\\frac{\\lambda^{x_n}}{x_n!}\\exp(-\\lambda)\n",
    "\\\\\n",
    "p(\\lambda)=&\\mathrm{Gam}(\\lambda|a, b)=\\lambda^{(a-1)}\\exp(-b\\lambda) C_G(a,b)\n",
    "\\end{align}\n",
    "$$\n",
    "\n",
    "## Posterior distribution\n",
    "### Bayes' Theorem\n",
    "$$p(\\lambda|\\boldsymbol{X})= \\frac{p(\\boldsymbol{X}|\\lambda)p(\\lambda)}{p(\\boldsymbol{X})}\\propto\n",
    "p(\\boldsymbol{X}|\\lambda)p(\\lambda)$$\n",
    "### Posterior distribution and its parameters\n",
    "$$\n",
    "p(\\lambda|\\boldsymbol{X}) = \\mathrm{Gam}(\\lambda|\\hat{a}, \\hat{b})\n",
    "$$\n",
    "$$\n",
    "\\left\\{\\begin{align}\n",
    "\\hat{a}=&a + \\sum_{n=1}^{N}x_n\n",
    " \\\\ \n",
    "\\hat{b}=&b + T \n",
    "\\end{align}\\right.\n",
    "$$"
   ]
  },
  {
   "cell_type": "markdown",
   "metadata": {},
   "source": [
    "# Mixture of Poisson Distributions\n",
    "## model definition\n",
    "$$\n",
    "\\begin{align}\n",
    "p(\\boldsymbol{X},\\boldsymbol{S},\\lambda) =& p(\\boldsymbol{X}|\\boldsymbol{S},\\lambda)p(\\boldsymbol{S}|\\boldsymbol{\\pi})p(\\boldsymbol{\\lambda})p(\\boldsymbol{\\pi})\n",
    "\\\\\n",
    "p(\\boldsymbol{X}|\\boldsymbol{S},\\boldsymbol{\\lambda})=&\\prod_{n=1}^N\\prod_{k=1}^K \\mathrm{Poi}(x_n|,\\lambda_k)^{s^{(k)}_n} =\\prod_{n=1}^N\\prod_{k=1}^K\\frac{\\lambda_k^{x_n}}{x_n!}\\exp(-\\lambda_k)^{s^{(k)}_n}\n",
    "\\\\\n",
    "p(\\boldsymbol{\\lambda})=&\\prod_{k=1}^K\\mathrm{Gam}(\\lambda_k|a_k, b_k)=\\prod_{k=1}^K\\lambda_k^{(a_k-1)}\\exp(-b_k\\lambda_k) C_G(a_k,b_k)\n",
    "\\\\\n",
    "p(\\boldsymbol{S}|\\boldsymbol{}\\pi) =& \\prod_{n=1}^N \\mathrm{Cat}(\\boldsymbol{s}_n|\\boldsymbol{\\pi})\n",
    "\\\\\n",
    "p(\\boldsymbol{\\pi}) =& \\mathrm{Dir}(\\boldsymbol{\\pi}|\\boldsymbol{\\alpha}_{\\pi})\n",
    "\\end{align}\n",
    "$$"
   ]
  },
  {
   "cell_type": "markdown",
   "metadata": {},
   "source": [
    "## Posterior distribution\n",
    "### Variational Inference\n",
    "Minimise KL divergense $\\mathrm{KL}[q(\\boldsymbol{S})q(\\boldsymbol{\\lambda},\\boldsymbol{\\pi})||p(\\boldsymbol{S},\\boldsymbol{\\lambda},\\boldsymbol{\\pi}|\\boldsymbol{X})]$ where $q(\\boldsymbol{S})q(\\boldsymbol{\\lambda},\\boldsymbol{\\pi})$ is the assumed distributions and $p(\\boldsymbol{S},\\boldsymbol{\\lambda},\\boldsymbol{\\pi}|\\boldsymbol{X})$ is the exact posteriors.\n",
    "\n",
    "$$\n",
    "\\begin{matrix}\n",
    "\\ln q(\\boldsymbol{S}) &=&\\langle \\ln p(\\boldsymbol{X}|\\boldsymbol{S},\\boldsymbol{\\lambda})\\rangle_{q(\\boldsymbol{\\lambda})}+& \\langle \\ln  p(\\boldsymbol{S}|\\boldsymbol{\\pi})\\rangle_{q(\\boldsymbol{\\pi})}+ &&&&C\n",
    "\\\\\n",
    "\\ln q(\\boldsymbol{\\lambda}) &=&\\langle \\ln p(\\boldsymbol{X}|\\boldsymbol{S},\\boldsymbol{\\lambda})\\rangle_{q(\\boldsymbol{S})}+ &&\\ln p(\\boldsymbol{\\lambda})+&&&C\n",
    "\\\\\n",
    "\\ln q(\\boldsymbol{\\pi}) &=&&\\langle\\ln p(\\boldsymbol{S}|\\boldsymbol{\\pi})\\rangle_{q(\\boldsymbol{S})}+&&&\\ln p(\\boldsymbol{\\pi})+& C\n",
    "\\end{matrix}\n",
    "$$\n",
    "\n",
    "### Posterior distribution and its parameters\n",
    "$$\n",
    "p(\\lambda|\\boldsymbol{X}) = \\mathrm{Gamma}(\\lambda|\\hat{a}, \\hat{b})\n",
    "$$\n",
    "$$\n",
    "\\left\\{\n",
    "\\begin{align}\n",
    "\\hat{a} &= a + \\sum_{n=1}^{N}x_n\n",
    "\\\\\n",
    "\\hat{b} &= b + T \n",
    "\\end{align}\n",
    "\\right.\n",
    "$$"
   ]
  },
  {
   "cell_type": "markdown",
   "metadata": {},
   "source": []
  },
  {
   "cell_type": "code",
   "execution_count": null,
   "metadata": {
    "collapsed": true
   },
   "outputs": [],
   "source": []
  }
 ],
 "metadata": {
  "kernelspec": {
   "display_name": "Python 2",
   "language": "python",
   "name": "python2"
  },
  "language_info": {
   "codemirror_mode": {
    "name": "ipython",
    "version": 2
   },
   "file_extension": ".py",
   "mimetype": "text/x-python",
   "name": "python",
   "nbconvert_exporter": "python",
   "pygments_lexer": "ipython2",
   "version": "2.7.15"
  }
 },
 "nbformat": 4,
 "nbformat_minor": 2
}
