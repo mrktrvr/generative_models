{
 "cells": [
  {
   "cell_type": "markdown",
   "metadata": {},
   "source": [
    "# Model\n",
    "$$\n",
    "\\begin{align}\n",
    "p(\\boldsymbol{Y},\\boldsymbol{S},\\boldsymbol{\\mu},\\boldsymbol{R},\\boldsymbol{\\pi})=&p(\\boldsymbol{Y}|\\boldsymbol{S},\\boldsymbol{\\mu},\\boldsymbol{R})p(\\boldsymbol{S}|\\boldsymbol{\\pi})p(\\boldsymbol{\\mu},\\boldsymbol{R})p(\\boldsymbol{\\pi})\n",
    "\\\\\n",
    "p(\\boldsymbol{Y}|\\boldsymbol{S},\\boldsymbol{\\mu},\\boldsymbol{R})&=\\prod_t^Tp(\\boldsymbol{y}_t|s_t,\\boldsymbol{\\mu},\\boldsymbol{R})=\\prod_t^T\\prod_k^K\\mathcal{N}(\\boldsymbol{y}_t|\\boldsymbol{\\mu}^{(k)},\\boldsymbol{R}^{(k)^{-1}})^{s_t^{(k)}}\n",
    "\\\\\n",
    "p(\\boldsymbol{S}|\\boldsymbol{\\pi})&=\\prod_{t=1}^{T}\\mathrm{Cat}(s_t|\\boldsymbol{\\pi})\n",
    "\\\\\n",
    "p(\\boldsymbol{\\mu},\\boldsymbol{R})&=\\prod_{k=1}^{K}\\mathcal{NW}(\\boldsymbol{\\mu}^{(k)},\\boldsymbol{R}^{(k)}|\\beta^{(k)},\\boldsymbol{\\mu}_0^{(k)},\\nu^{(k)},\\boldsymbol{W}^{(k)})\n",
    "\\\\\n",
    "p(\\boldsymbol{\\pi})&=\\mathrm{Dir}(\\boldsymbol{\\pi}|\\alpha_{\\boldsymbol{\\pi}})\n",
    "\\end{align}\n",
    "$$"
   ]
  },
  {
   "cell_type": "markdown",
   "metadata": {},
   "source": [
    "# q(S)\n",
    "\n",
    "$$\n",
    "\\begin{align}\n",
    "\\ln q(\\boldsymbol{S})=&\\langle\\ln p(\\boldsymbol{Y}|\\boldsymbol{S},\\boldsymbol{\\mu},\\boldsymbol{R})\\rangle_{q(\\boldsymbol{\\mu},\\boldsymbol{R})}+\\langle \\ln p(\\boldsymbol{S}|\\boldsymbol{\\pi})\\rangle_{q(\\boldsymbol{\\pi})}+C\n",
    "\\\\\n",
    "=&\\sum_{t=1}^T\\sum_{k=1}^{K}-\\frac{1}{2}s_t^{(k)}\\{\n",
    "\\boldsymbol{y}_t^\\top\\langle \\boldsymbol{R}^{(k)}\\rangle \\boldsymbol{y}_t - 2\\boldsymbol{y}_t^\\top\\langle \\boldsymbol{R}^{(k)}\\boldsymbol{\\mu}^{(k)}\\rangle+\\langle \\boldsymbol{\\mu}^{(k)^\\top} \\boldsymbol{R}^{(k)}\\boldsymbol{\\mu}^{(k)}\\rangle-\\langle\\ln |\\boldsymbol{R}^{(k)}|\\rangle \\}\n",
    "+ s_t^{(k)}\\langle \\ln\\pi_k\\rangle+C\n",
    "\\\\\n",
    "=&\\sum_{t=1}^\\top\\sum_{k=1}^{K}s_t^{(k)}\\{-\\frac{1}{2}(\\boldsymbol{y}_t^\\top\\langle \\boldsymbol{R}^{(k)}\\rangle \\boldsymbol{y}_t - 2\\boldsymbol{y}_t^\\top\\langle \\boldsymbol{R}^{(k)}\\boldsymbol{\\mu}^{(k)}\\rangle+\\langle \\boldsymbol{\\mu}^{(k)^\\top} \\boldsymbol{R}^{(k)}\\boldsymbol{\\mu}^{(k)}\\rangle-\\langle\\ln |\\boldsymbol{R}^{(k)}|)+\\langle\\ln\\pi_k\\rangle\\}+C\n",
    "\\\\\n",
    "q(\\boldsymbol{S})=&\\prod_{t=1}^T \\mathrm{Cat}(\\boldsymbol{s}_t|\\rho_t)\n",
    "\\\\\n",
    "\\rho_{t}^{(k)}&\\propto \\exp\\{-\\frac{1}{2}(\\boldsymbol{y}_t^\\top\\langle \\boldsymbol{R}^{(k)}\\rangle \\boldsymbol{y}_t-2\\boldsymbol{y}_t^\\top\\langle\\boldsymbol{R}^{(k)}\\boldsymbol{\\mu}^{(k)}\\rangle+\\langle \\boldsymbol{\\mu}^{(k)^\\top} \\boldsymbol{R}^{(k)}\\boldsymbol{\\mu}^{(k)}\\rangle-\\langle\\ln |\\boldsymbol{R}^{(k)}|\\rangle)+\\langle\\ln \\pi_k\\rangle\\}\n",
    "\\end{align}\n",
    "$$\n",
    "### expectation\n",
    "$$\n",
    "\\langle s_{t}^{(k)} \\rangle=\\frac{\\rho_t^{(k)}}{\\sum_i^K\\rho_t^{(i)}}\n",
    "$$"
   ]
  },
  {
   "cell_type": "markdown",
   "metadata": {},
   "source": [
    "# q(μ, R)\n",
    "$$\n",
    "\\begin{align}\n",
    "\\ln q(\\boldsymbol{\\mu},\\boldsymbol{R})=&\\langle\\ln p(\\boldsymbol{Y}|\\boldsymbol{S},\\boldsymbol{\\mu},\\boldsymbol{R})\\rangle_{q(\\boldsymbol{S})}+\\ln p(\\boldsymbol{\\mu},\\boldsymbol{R})+C\n",
    "\\\\\n",
    "=&\\langle\\sum_{t=1}^\\top\\sum_{k=1}^Ks_t^{(k)}\\ln\\mathcal{N}(\\boldsymbol{y}_t|\\mu^{(k)},\\boldsymbol{R}^{(k)^{-1}})\\rangle_{q(S)}+\\sum_{k=1}^{K}\\ln\\mathcal{NW}(\\mu^{(k)},\\boldsymbol{R}^{(k)}|\\beta^{(k)},\\boldsymbol{\\mu}_0^{(k)},\\nu^{(k)},\\boldsymbol{W}^{(k)})+C\n",
    "\\\\\n",
    "=&\\sum_{k=1}^K\\{\\sum_{t=1}^t\\langle s_t^{(k)}\\rangle\\ln\\mathcal{N}(\\boldsymbol{y}_t|\\boldsymbol{\\mu}^{(k)},\\boldsymbol{R}^{(k)^{-1}})+\\ln\\mathcal{NW}(\\boldsymbol{\\mu}^{(k)},\\boldsymbol{R}^{(k)}|\\beta^{(k)},\\boldsymbol{\\mu}_0^{(k)},\\nu^{(k)},\\boldsymbol{W}^{(k)})\\}+C\n",
    "\\\\\n",
    "=&\\sum_k^K\\big{\\{}-\\frac{1}{2}\\sum_t^\\top\\langle s_t^{(k)}\\rangle\\{(\\boldsymbol{y}_t-\\boldsymbol{\\mu}^{(k)})^\\top\\boldsymbol{R}^{(k)}(\\boldsymbol{y}_t-\\boldsymbol{\\mu}^{(k)}) -\\ln |\\boldsymbol{R}^{(k)}|\\}-\\frac{1}{2}\\{(\\boldsymbol{\\mu}^{(k)}-\\boldsymbol{\\mu}_0^{(k)})^\\top\\beta^{(k)}\\boldsymbol{R}^{(k)}(\\boldsymbol{\\mu}^{(k)}-\\boldsymbol{\\mu}_0^{(k)})-\\ln|\\beta^{(k)}\\boldsymbol{R}^{(k)}|\\}\n",
    "\\\\\n",
    "&+\\frac{\\nu^{(k)}-D-1}{2} \\ln|\\boldsymbol{R}^{(k)}|-\\frac{1}{2}\\mathrm{Tr}(\\boldsymbol{W}^{(k)^{-1}}\\boldsymbol{R}^{(k)}))\\big\\}+C\n",
    "\\\\\n",
    "=&\\sum_k^K-\\frac{1}{2}\\big{\\{}(\\sum_t^\\top\\langle s_t\\rangle+\\beta^{(k)})\\boldsymbol{\\mu}^{(k)^\\top}\\boldsymbol{R}^{(k)}\\boldsymbol{\\mu}^{(k)}-2(\\sum_t^T\\langle s_t^{(k)}\\rangle \\boldsymbol{y}_t +\\beta^{(k)} \\boldsymbol{\\mu}_0^{(k)^\\top})\\boldsymbol{R}^{(k)} \\boldsymbol{\\mu}^{(k)}\\big{\\}}\n",
    "+\\frac{\\nu+\\sum_t^T\\langle s_t\\rangle-D-1}{2}\\ln|\\boldsymbol{R}^{(k)}|+\\frac{1}{2}\\ln|\\beta \\boldsymbol{R}^{(k)}|\n",
    "\\\\\n",
    "&-\\frac{1}{2}\\{\\sum_t^T\\langle s_t^{(k)}\\rangle \\boldsymbol{y}_t^\\top\\boldsymbol{R}^{(k)}\\boldsymbol{y}_t+\\beta^{(k)} \\boldsymbol{\\mu}^{(k)^\\top}\\boldsymbol{R}^{(k)} \\boldsymbol{\\mu}_0^{(k)}+\\mathrm{Tr}(\\boldsymbol{W}^{(k)^{-1}}\\boldsymbol{R}^{(k)})\\}+C\n",
    "\\\\\n",
    "=&-\\frac{1}{2}\\big{\\{}(\\boldsymbol{\\mu}^{(k)^\\top}-\\hat{\\boldsymbol{\\mu}}^{(k)})^\\top\\hat{\\beta}^{(k)} \\boldsymbol{R}^{(k)}(\\boldsymbol{\\mu}^{(k)}-\\hat{\\boldsymbol{\\mu}}^{(k)})\\big{\\}}+\\frac{\\hat{\\nu}^{(k)}-D-1}{2}\\ln|\\boldsymbol{R}^{(k)}|+\\frac{1}{2}\\ln|\\beta^{(k)} \\boldsymbol{R}^{(k)}|\n",
    "\\\\\n",
    "&-\\frac{1}{2}\\{\\sum_t^T\\langle s_t^{(k)}\\rangle \\boldsymbol{y}_t^\\top\\boldsymbol{R}^{(k)}\\boldsymbol{y}_t+\\beta^{(k)} \\boldsymbol{\\mu}^{(k)^\\top}\\boldsymbol{R}^{(k)} \\boldsymbol{\\mu}_0^{(k)}+\\mathrm{Tr}(\\boldsymbol{W}^{(k)^{-1}}\\boldsymbol{R}^{(k)})\\}+C\n",
    "\\\\\n",
    "=&-\\frac{1}{2}\\big{\\{}(\\boldsymbol{\\mu}^{(k)^\\top}-\\hat{\\boldsymbol{\\mu}}^{(k)})^\\top\\hat{\\beta}^{(k)}\\boldsymbol{R}^{(k)}(\\boldsymbol{\\mu}^{(k)}-\\hat{\\boldsymbol{\\mu}}^{(k)})\\big{\\}}+\\frac{1}{2}\\ln|\\beta^{(k)} \\boldsymbol{R}^{(k)}|+\\frac{\\hat{\\nu}^{(k)}-D-1}{2}\\ln|\\boldsymbol{R}^{(k)}|-\\frac{1}{2}\\{\\mathrm{Tr}(\\hat{\\boldsymbol{W}}^{(k)^{-1}}\\boldsymbol{R}^{(k)})\\}\n",
    "\\\\\n",
    "=&\\sum_{k=1}^K \\ln \\mathcal{NW}(\\boldsymbol{\\mu}^{(k)},\\boldsymbol{R}^{(k)}|\\hat{\\boldsymbol{\\mu}}^{(k)},\\hat{\\beta}^{(k)},\\hat{\\nu}^{(k)},\\hat{\\boldsymbol{W}}^{(k)})\n",
    "\\end{align}\n",
    "$$\n",
    "$$\n",
    "\\left\\{\n",
    "\\begin{align}\n",
    "\\hat{\\boldsymbol{\\mu}}^{(k)}=&\\frac{\\sum_{t=1}^T\\langle s_t^{(k)}\\rangle \\boldsymbol{y}_t +\\beta^{(k)}\\boldsymbol{\\mu}_0^{(k)}}{\\hat{\\beta}^{(k)}}\n",
    "\\\\\n",
    "\\hat{\\beta}^{(k)}=&\\beta^{(k)}+\\sum_t^T\\langle s_t^{(k)}\\rangle\n",
    "\\\\\n",
    "\\hat{\\nu}^{(k)}=&\\nu^{(k)}+\\sum_t^T\\langle s_t^{(k)}\\rangle\n",
    "\\\\\n",
    "\\hat{\\boldsymbol{W}}^{(k)^{-1}}=&\\boldsymbol{W}^{(k)^{-1}}+\\sum_t^T\\langle s_t^{(k)}\\rangle\\boldsymbol{y}_t\\boldsymbol{y}_t^\\top+\\beta^{(k)} \\boldsymbol{\\mu}_0^{(k)}\\boldsymbol{\\mu}_0^{(k)^\\top}-\\hat{\\beta}^{(k)}\\hat{\\boldsymbol{\\mu}}^{(k)}\\hat{\\boldsymbol{\\mu}}^{(k)^\\top}\n",
    "\\end{align}\n",
    "\\right .\n",
    "$$\n",
    "### expectations\n",
    "$$\n",
    "\\begin{align}\n",
    "\\langle \\boldsymbol{R}^{(k)} \\rangle=&\\hat{\\nu}^{(k)} \\hat{\\boldsymbol{W}}^{(k)}\n",
    "\\\\\n",
    "\\langle \\boldsymbol{R}^{(k)}\\boldsymbol{\\mu}^{(k)} \\rangle =&\\hat{\\nu}^{(k)} \\hat{\\boldsymbol{W}}^{(k)} \\hat{\\boldsymbol{m}}^{(k)}\n",
    "\\\\\n",
    "\\langle \\boldsymbol{\\mu}^{(k)^T} \\boldsymbol{R}^{(k)}\\boldsymbol{\\mu}^{(k)} \\rangle =&\\hat{\\nu}^{(k)} \\hat{\\boldsymbol{m}}^{(k)^T}\\hat{\\boldsymbol{W}}^{(k)} \\hat{\\boldsymbol{m}}^{(k)}+\\frac{D}{\\hat{\\beta}^{(k)}}\n",
    "\\\\\n",
    "\\langle \\ln |\\boldsymbol{R}^{(k)}| \\rangle =&\\sum_{d=1}^{D}\\psi(\\frac{\\hat{\\nu}^{(k)}+1-d}{2})+D\\ln 2 + \\ln|\\hat{\\boldsymbol{W}}^{(k)}|\n",
    "\\\\\n",
    "\\psi(x)&=\\frac{\\mathrm{d}}{\\mathrm{d}x}\\Gamma(x)\n",
    "\\\\\n",
    "\\Gamma(x)&=\\int t^{x-1}\\mathrm{e}^{-t} \\mathrm{d}t\n",
    "\\end{align}\n",
    "$$# q(μ, R)\n",
    "$$\n",
    "\\begin{align}\n",
    "\\ln q(\\boldsymbol{\\mu},\\boldsymbol{R})=&\\langle\\ln p(\\boldsymbol{Y}|\\boldsymbol{S},\\boldsymbol{\\mu},\\boldsymbol{R})\\rangle_{q(\\boldsymbol{S})}+\\ln p(\\boldsymbol{\\mu},\\boldsymbol{R})+C\n",
    "\\\\\n",
    "=&\\langle\\sum_{t=1}^\\top\\sum_{k=1}^Ks_t^{(k)}\\ln\\mathcal{N}(\\boldsymbol{y}_t|\\mu^{(k)},\\boldsymbol{R}^{(k)^{-1}})\\rangle_{q(S)}+\\sum_{k=1}^{K}\\ln\\mathcal{NW}(\\mu^{(k)},\\boldsymbol{R}^{(k)}|\\beta^{(k)},\\boldsymbol{\\mu}_0^{(k)},\\nu^{(k)},\\boldsymbol{W}^{(k)})+C\n",
    "\\\\\n",
    "=&\\sum_{k=1}^K\\{\\sum_{t=1}^t\\langle s_t^{(k)}\\rangle\\ln\\mathcal{N}(\\boldsymbol{y}_t|\\boldsymbol{\\mu}^{(k)},\\boldsymbol{R}^{(k)^{-1}})+\\ln\\mathcal{NW}(\\boldsymbol{\\mu}^{(k)},\\boldsymbol{R}^{(k)}|\\beta^{(k)},\\boldsymbol{\\mu}_0^{(k)},\\nu^{(k)},\\boldsymbol{W}^{(k)})\\}+C\n",
    "\\\\\n",
    "=&\\sum_k^K\\big{\\{}-\\frac{1}{2}\\sum_t^\\top\\langle s_t^{(k)}\\rangle\\{(\\boldsymbol{y}_t-\\boldsymbol{\\mu}^{(k)})^\\top\\boldsymbol{R}^{(k)}(\\boldsymbol{y}_t-\\boldsymbol{\\mu}^{(k)}) -\\ln |\\boldsymbol{R}^{(k)}|\\}-\\frac{1}{2}\\{(\\boldsymbol{\\mu}^{(k)}-\\boldsymbol{\\mu}_0^{(k)})^\\top\\beta^{(k)}\\boldsymbol{R}^{(k)}(\\boldsymbol{\\mu}^{(k)}-\\boldsymbol{\\mu}_0^{(k)})-\\ln|\\beta^{(k)}\\boldsymbol{R}^{(k)}|\\}\n",
    "\\\\\n",
    "&+\\frac{\\nu^{(k)}-D-1}{2} \\ln|\\boldsymbol{R}^{(k)}|-\\frac{1}{2}\\mathrm{Tr}(\\boldsymbol{W}^{(k)^{-1}}\\boldsymbol{R}^{(k)}))\\big\\}+C\n",
    "\\\\\n",
    "=&\\sum_k^K-\\frac{1}{2}\\big{\\{}(\\sum_t^\\top\\langle s_t\\rangle+\\beta^{(k)})\\boldsymbol{\\mu}^{(k)^\\top}\\boldsymbol{R}^{(k)}\\boldsymbol{\\mu}^{(k)}-2(\\sum_t^T\\langle s_t^{(k)}\\rangle \\boldsymbol{y}_t +\\beta^{(k)} \\boldsymbol{\\mu}_0^{(k)^\\top})\\boldsymbol{R}^{(k)} \\boldsymbol{\\mu}^{(k)}\\big{\\}}\n",
    "+\\frac{\\nu+\\sum_t^T\\langle s_t\\rangle-D-1}{2}\\ln|\\boldsymbol{R}^{(k)}|+\\frac{1}{2}\\ln|\\beta \\boldsymbol{R}^{(k)}|\n",
    "\\\\\n",
    "&-\\frac{1}{2}\\{\\sum_t^T\\langle s_t^{(k)}\\rangle \\boldsymbol{y}_t^\\top\\boldsymbol{R}^{(k)}\\boldsymbol{y}_t+\\beta^{(k)} \\boldsymbol{\\mu}^{(k)^\\top}\\boldsymbol{R}^{(k)} \\boldsymbol{\\mu}_0^{(k)}+\\mathrm{Tr}(\\boldsymbol{W}^{(k)^{-1}}\\boldsymbol{R}^{(k)})\\}+C\n",
    "\\\\\n",
    "=&-\\frac{1}{2}\\big{\\{}(\\boldsymbol{\\mu}^{(k)^\\top}-\\hat{\\boldsymbol{\\mu}}^{(k)})^\\top\\hat{\\beta}^{(k)} \\boldsymbol{R}^{(k)}(\\boldsymbol{\\mu}^{(k)}-\\hat{\\boldsymbol{\\mu}}^{(k)})\\big{\\}}+\\frac{\\hat{\\nu}^{(k)}-D-1}{2}\\ln|\\boldsymbol{R}^{(k)}|+\\frac{1}{2}\\ln|\\beta^{(k)} \\boldsymbol{R}^{(k)}|\n",
    "\\\\\n",
    "&-\\frac{1}{2}\\{\\sum_t^T\\langle s_t^{(k)}\\rangle \\boldsymbol{y}_t^\\top\\boldsymbol{R}^{(k)}\\boldsymbol{y}_t+\\beta^{(k)} \\boldsymbol{\\mu}^{(k)^\\top}\\boldsymbol{R}^{(k)} \\boldsymbol{\\mu}_0^{(k)}+\\mathrm{Tr}(\\boldsymbol{W}^{(k)^{-1}}\\boldsymbol{R}^{(k)})\\}+C\n",
    "\\\\\n",
    "=&-\\frac{1}{2}\\big{\\{}(\\boldsymbol{\\mu}^{(k)^\\top}-\\hat{\\boldsymbol{\\mu}}^{(k)})^\\top\\hat{\\beta}^{(k)}\\boldsymbol{R}^{(k)}(\\boldsymbol{\\mu}^{(k)}-\\hat{\\boldsymbol{\\mu}}^{(k)})\\big{\\}}+\\frac{1}{2}\\ln|\\beta^{(k)} \\boldsymbol{R}^{(k)}|+\\frac{\\hat{\\nu}^{(k)}-D-1}{2}\\ln|\\boldsymbol{R}^{(k)}|-\\frac{1}{2}\\{\\mathrm{Tr}(\\hat{\\boldsymbol{W}}^{(k)^{-1}}\\boldsymbol{R}^{(k)})\\}\n",
    "\\\\\n",
    "=&\\sum_{k=1}^K \\ln \\mathcal{NW}(\\boldsymbol{\\mu}^{(k)},\\boldsymbol{R}^{(k)}|\\hat{\\boldsymbol{\\mu}}^{(k)},\\hat{\\beta}^{(k)},\\hat{\\nu}^{(k)},\\hat{\\boldsymbol{W}}^{(k)})\n",
    "\\end{align}\n",
    "$$\n",
    "$$\n",
    "\\left\\{\n",
    "\\begin{align}\n",
    "\\hat{\\boldsymbol{\\mu}}^{(k)}=&\\frac{\\sum_{t=1}^T\\langle s_t^{(k)}\\rangle \\boldsymbol{y}_t +\\beta^{(k)}\\boldsymbol{\\mu}_0^{(k)}}{\\hat{\\beta}^{(k)}}\n",
    "\\\\\n",
    "\\hat{\\beta}^{(k)}=&\\beta^{(k)}+\\sum_t^T\\langle s_t^{(k)}\\rangle\n",
    "\\\\\n",
    "\\hat{\\nu}^{(k)}=&\\nu^{(k)}+\\sum_t^T\\langle s_t^{(k)}\\rangle\n",
    "\\\\\n",
    "\\hat{\\boldsymbol{W}}^{(k)^{-1}}=&\\boldsymbol{W}^{(k)^{-1}}+\\sum_t^T\\langle s_t^{(k)}\\rangle\\boldsymbol{y}_t\\boldsymbol{y}_t^\\top+\\beta^{(k)} \\boldsymbol{\\mu}_0^{(k)}\\boldsymbol{\\mu}_0^{(k)^\\top}-\\hat{\\beta}^{(k)}\\hat{\\boldsymbol{\\mu}}^{(k)}\\hat{\\boldsymbol{\\mu}}^{(k)^\\top}\n",
    "\\end{align}\n",
    "\\right .\n",
    "$$\n",
    "### expectations\n",
    "$$\n",
    "\\begin{align}\n",
    "\\langle \\boldsymbol{R}^{(k)} \\rangle=&\\hat{\\nu}^{(k)} \\hat{\\boldsymbol{W}}^{(k)}\n",
    "\\\\\n",
    "\\langle \\boldsymbol{R}^{(k)}\\boldsymbol{\\mu}^{(k)} \\rangle =&\\hat{\\nu}^{(k)} \\hat{\\boldsymbol{W}}^{(k)} \\hat{\\boldsymbol{m}}^{(k)}\n",
    "\\\\\n",
    "\\langle \\boldsymbol{\\mu}^{(k)^T} \\boldsymbol{R}^{(k)}\\boldsymbol{\\mu}^{(k)} \\rangle =&\\hat{\\nu}^{(k)} \\hat{\\boldsymbol{m}}^{(k)^T}\\hat{\\boldsymbol{W}}^{(k)} \\hat{\\boldsymbol{m}}^{(k)}+\\frac{D}{\\hat{\\beta}^{(k)}}\n",
    "\\\\\n",
    "\\langle \\ln |\\boldsymbol{R}^{(k)}| \\rangle =&\\sum_{d=1}^{D}\\psi(\\frac{\\hat{\\nu}^{(k)}+1-d}{2})+D\\ln 2 + \\ln|\\hat{\\boldsymbol{W}}^{(k)}|\n",
    "\\\\\n",
    "\\psi(x)&=\\frac{\\mathrm{d}}{\\mathrm{d}x}\\Gamma(x)\n",
    "\\\\\n",
    "\\Gamma(x)&=\\int t^{x-1}\\mathrm{e}^{-t} \\mathrm{d}t\n",
    "\\end{align}\n",
    "$$"
   ]
  },
  {
   "cell_type": "markdown",
   "metadata": {},
   "source": [
    "# q(π)\n",
    "$$\n",
    "\\begin{align}\n",
    "\\ln q(\\boldsymbol{\\pi})=&\\langle\\ln p(\\boldsymbol{S}|\\boldsymbol{\\pi})\\rangle_{q(\\boldsymbol{S})}+\\ln p(\\boldsymbol{\\pi}) +C\n",
    "\\\\\n",
    "=&\\langle\\sum_{t=t}^{T} \\ln\\mathrm{Cat}(s_t|\\pi)\\rangle_{q(S)}+\\ln\\mathrm{Dir}(\\pi|\\alpha_{\\pi}) + C\n",
    "\\\\\n",
    "=&\\sum_{t=1}^{T} \\sum_{k=1}^{K} \\langle s_t^{(k)}\\rangle \\ln\\pi^{(k)}+\\sum_{k=1}^{K}(\\alpha_{\\pi}^{(k)}-1)\\ln\\pi^{(k)} + C\n",
    "\\\\\n",
    "=&\\sum_k^K(\\sum_t^T\\langle s_t^{(k)}\\rangle +\\alpha_{\\pi}^{(k)}-1)\\ln\\pi^{(k)}+C\n",
    "\\\\\n",
    "=&\\ln\\mathrm{Dir}(\\pi|\\hat{\\alpha}_{\\pi})\n",
    "\\\\\n",
    "\\hat{\\boldsymbol{\\alpha}}_{\\pi}&=\\sum_t^T\\langle \\boldsymbol{s}_t \\rangle + \\boldsymbol{\\alpha}_{\\pi}\n",
    "\\end{align}\n",
    "$$\n",
    "### expectation\n",
    "$$\n",
    "\\langle \\ln \\pi^{(k)} \\rangle = \\psi(\\hat{\\alpha}_k)-psi(\\sum_{i=1}^{K}\\hat{\\alpha}_i)\n",
    "$$"
   ]
  },
  {
   "cell_type": "markdown",
   "metadata": {},
   "source": [
    "# Lower Bound\n",
    "\n",
    "\n",
    "$$\n",
    "\\begin{align}\n",
    "\\mathcal{L}(q(\\boldsymbol{S})q(\\boldsymbol{\\mu},\\boldsymbol{R},\\boldsymbol{\\pi}))=&\\sum_{\\boldsymbol{S}}\\int_{\\boldsymbol{\\mu}}\\int_{\\boldsymbol{R}}\\int_{\\boldsymbol{\\pi}}q(\\boldsymbol{S})q(\\boldsymbol{\\mu},\\boldsymbol{R},\\boldsymbol{\\pi})\\ln\\frac{p(\\boldsymbol{Y},\\boldsymbol{S},\\boldsymbol{\\mu},\\boldsymbol{R},\\boldsymbol{\\pi})}{q(\\boldsymbol{S})q(\\boldsymbol{\\mu},\\boldsymbol{R},\\boldsymbol{\\pi})}\\mathrm{d}\\boldsymbol{\\mu} \\mathrm{d}\\boldsymbol{R} \\mathrm{d}\\boldsymbol{\\pi}\n",
    "\\\\\n",
    "=&-\\mathrm{KL}[q(\\boldsymbol{S})q(\\boldsymbol{\\mu},\\boldsymbol{R},\\boldsymbol{\\pi})||p(\\boldsymbol{Y},\\boldsymbol{S},\\boldsymbol{\\mu},\\boldsymbol{R},\\boldsymbol{\\pi})]\n",
    "\\\\\n",
    "=&-\\langle q(\\boldsymbol{S})q(\\boldsymbol{\\mu},\\boldsymbol{R},\\boldsymbol{\\pi})\\rangle_{q(\\boldsymbol{S})q(\\boldsymbol{\\mu},\\boldsymbol{R},\\boldsymbol{\\pi})} + \\langle p(\\boldsymbol{Y},\\boldsymbol{S},\\boldsymbol{\\mu},\\boldsymbol{R},\\boldsymbol{\\pi})\\rangle_{q(\\boldsymbol{S})q(\\boldsymbol{\\mu},\\boldsymbol{R},\\boldsymbol{\\pi})}\n",
    "\\\\\n",
    "=&\\langle \\ln p(\\boldsymbol{Y}|\\boldsymbol{S},\\boldsymbol{\\mu},\\boldsymbol{R})\\rangle_{q(\\boldsymbol{S})q(\\boldsymbol{\\mu},\\boldsymbol{R},\\boldsymbol{\\pi})}+\\langle \\ln p(\\boldsymbol{S}|\\boldsymbol{\\pi})\\rangle_{q(\\boldsymbol{S})q(\\boldsymbol{\\mu},\\boldsymbol{R},\\boldsymbol{\\pi})}\n",
    "-\\langle \\ln q(\\boldsymbol{S})\\rangle_{q(\\boldsymbol{S})q(\\boldsymbol{\\mu},\\boldsymbol{R},\\boldsymbol{\\pi})}\n",
    "\\\\\n",
    "&+\\langle \\ln p(\\boldsymbol{\\mu},\\boldsymbol{R})\\rangle_{q(\\boldsymbol{S})q(\\boldsymbol{\\mu},\\boldsymbol{R},\\boldsymbol{\\pi})}-\\langle \\ln q(\\boldsymbol{\\mu},\\boldsymbol{R})\\rangle_{q(\\boldsymbol{S})q(\\boldsymbol{\\mu},\\boldsymbol{R},\\boldsymbol{\\pi})}\n",
    "\\\\\n",
    "&+\\langle \\ln p(\\boldsymbol{\\pi})\\rangle_{q(\\boldsymbol{S})q(\\boldsymbol{\\mu},\\boldsymbol{R},\\boldsymbol{\\pi})}-\\langle \\ln q(\\boldsymbol{\\pi})\\rangle_{q(\\boldsymbol{S})q(\\boldsymbol{\\mu},\\boldsymbol{R},\\boldsymbol{\\pi})}\n",
    "\\\\\n",
    "=&-C_{q(\\boldsymbol{S})}-\\mathrm{KL}[q(\\boldsymbol{\\mu},\\boldsymbol{R})||p(\\boldsymbol{\\mu},\\boldsymbol{R})]-\\mathrm{KL}[q(\\boldsymbol{\\pi})||p(\\boldsymbol{\\pi})]\n",
    "\\end{align}\n",
    "$$\n",
    "\n",
    "$$\n",
    "\\begin{align}\n",
    "-C_{q(\\boldsymbol{S})}=&\\langle \\ln p(\\boldsymbol{Y}|\\boldsymbol{S},\\boldsymbol{\\mu},\\boldsymbol{R})\\rangle_{q(\\boldsymbol{S})q(\\boldsymbol{\\mu},\\boldsymbol{R},\\boldsymbol{\\pi})}+\\langle \\ln p(\\boldsymbol{S}|\\boldsymbol{\\pi})\\rangle_{q(\\boldsymbol{S})q(\\boldsymbol{\\mu},\\boldsymbol{R},\\boldsymbol{\\pi})}\n",
    "-\\langle \\ln q(\\boldsymbol{S})\\rangle_{q(\\boldsymbol{S})q(\\boldsymbol{\\mu},\\boldsymbol{R},\\boldsymbol{\\pi})}\n",
    "\\\\\n",
    "-\\mathrm{KL}[q(\\boldsymbol{\\mu},\\boldsymbol{R})||p(\\boldsymbol{\\mu},\\boldsymbol{R})]=&\n",
    "\\langle \\ln p(\\boldsymbol{\\mu},\\boldsymbol{R})\\rangle_{q(\\boldsymbol{S})q(\\boldsymbol{\\mu},\\boldsymbol{R},\\boldsymbol{\\pi})}-\\langle \\ln q(\\boldsymbol{\\mu},\\boldsymbol{R})\\rangle_{q(\\boldsymbol{S})q(\\boldsymbol{\\mu},\\boldsymbol{R},\\boldsymbol{\\pi})}\n",
    "\\\\\n",
    "-\\mathrm{KL}[q(\\boldsymbol{\\pi})||p(\\boldsymbol{\\pi})]=&\\langle \\ln p(\\boldsymbol{\\pi})\\rangle_{q(\\boldsymbol{S})q(\\boldsymbol{\\mu},\\boldsymbol{R},\\boldsymbol{\\pi})}-\\langle \\ln q(\\boldsymbol{\\pi})\\rangle_{q(\\boldsymbol{S})q(\\boldsymbol{\\mu},\\boldsymbol{R},\\boldsymbol{\\pi})}\n",
    "\\end{align}\n",
    "$$\n",
    "\n",
    "\n",
    "\n",
    "$$\n",
    "\\begin{align}\n",
    "\\ln p(\\boldsymbol{Y}) =& \\ln \\sum_{\\boldsymbol{S}}\\int_{\\boldsymbol{\\mu}}\\int_{\\boldsymbol{R}}\\int_{\\boldsymbol{\\pi}} p(\\boldsymbol{Y},\\boldsymbol{S},\\boldsymbol{\\mu},\\boldsymbol{R},\\boldsymbol{\\pi})\\mathrm{d}\\boldsymbol{\\mu}\\mathrm{d}\\boldsymbol{R}\\mathrm{d}\\boldsymbol{\\pi}\n",
    "\\\\\n",
    "=& \\ln \\sum_{\\boldsymbol{S}}\\int_{\\boldsymbol{\\mu}}\\int_{\\boldsymbol{R}}\\int_{\\boldsymbol{\\pi}} q(\\boldsymbol{S})q(\\boldsymbol{\\mu},\\boldsymbol{R},\\boldsymbol{\\pi}) \\frac{p(\\boldsymbol{Y},\\boldsymbol{S},\\boldsymbol{\\mu},\\boldsymbol{R},\\boldsymbol{\\pi})}{q(\\boldsymbol{S})q(\\boldsymbol{\\mu},\\boldsymbol{R},\\boldsymbol{\\pi})}\\mathrm{d}\\boldsymbol{\\mu}\\mathrm{d}\\boldsymbol{R}\\mathrm{d}\\boldsymbol{\\pi}\n",
    "\\\\\n",
    "\\geq& \\sum_{\\boldsymbol{S}}\\int_{\\boldsymbol{\\mu}}\\int_{\\boldsymbol{R}}\\int_{\\boldsymbol{\\pi}} q(\\boldsymbol{S})q(\\boldsymbol{\\mu},\\boldsymbol{R},\\boldsymbol{\\pi}) \\ln \\frac{p(\\boldsymbol{Y},\\boldsymbol{S},\\boldsymbol{\\mu},\\boldsymbol{R},\\boldsymbol{\\pi})}{q(\\boldsymbol{S})q(\\boldsymbol{\\mu},\\boldsymbol{R},\\boldsymbol{\\pi})}\\mathrm{d}\\boldsymbol{\\mu}\\mathrm{d}\\boldsymbol{R}\\mathrm{d}\\boldsymbol{\\pi}\\\\\n",
    "=&\\mathcal{L}(q(\\boldsymbol{S})q(\\boldsymbol{\\mu},\\boldsymbol{R},\\boldsymbol{\\pi}))\n",
    "\\end{align}\n",
    "$$"
   ]
  },
  {
   "cell_type": "code",
   "execution_count": null,
   "metadata": {
    "collapsed": true
   },
   "outputs": [],
   "source": [
    "import os\n",
    "import sys\n",
    "cdir = os.getcwd()\n",
    "sys.path.append(os.path.join(cdir, '..'))\n",
    "from models.gmm import Gmm\n",
    "from models.gmm import plotter\n",
    "from models.gmm import gen_data"
   ]
  },
  {
   "cell_type": "markdown",
   "metadata": {},
   "source": [
    "# setting"
   ]
  },
  {
   "cell_type": "code",
   "execution_count": null,
   "metadata": {
    "collapsed": true
   },
   "outputs": [],
   "source": [
    "data_dim = 2\n",
    "n_states = 4\n",
    "data_len = 2000"
   ]
  },
  {
   "cell_type": "markdown",
   "metadata": {},
   "source": [
    "# data"
   ]
  },
  {
   "cell_type": "code",
   "execution_count": null,
   "metadata": {
    "collapsed": true
   },
   "outputs": [],
   "source": [
    "y = gen_data(data_dim, n_states, data_len)"
   ]
  },
  {
   "cell_type": "markdown",
   "metadata": {},
   "source": [
    "# GMM setup"
   ]
  },
  {
   "cell_type": "code",
   "execution_count": null,
   "metadata": {
    "collapsed": true
   },
   "outputs": [],
   "source": [
    "gmm = Gmm(data_dim, n_states)\n",
    "if True:\n",
    "    from numpy import zeros\n",
    "    mu = zeros((data_dim, n_states))\n",
    "    gmm.set_params({'MuR': {'mu': mu}})\n",
    "else:\n",
    "    gmm.set_default_params()\n",
    "gmm.init_expt_s(data_len)\n",
    "plotter(y, gmm.expt_s.argmax(0), gmm)"
   ]
  },
  {
   "cell_type": "markdown",
   "metadata": {},
   "source": [
    "# GMM update"
   ]
  },
  {
   "cell_type": "code",
   "execution_count": null,
   "metadata": {
    "collapsed": true
   },
   "outputs": [],
   "source": [
    "gmm.update(y)\n",
    "plotter(y, gmm.expt_s.argmax(0), gmm)"
   ]
  },
  {
   "cell_type": "code",
   "execution_count": null,
   "metadata": {
    "collapsed": true
   },
   "outputs": [],
   "source": []
  }
 ],
 "metadata": {
  "kernelspec": {
   "display_name": "Python 3",
   "language": "python",
   "name": "python3"
  },
  "language_info": {
   "codemirror_mode": {
    "name": "ipython",
    "version": 3
   },
   "file_extension": ".py",
   "mimetype": "text/x-python",
   "name": "python",
   "nbconvert_exporter": "python",
   "pygments_lexer": "ipython3",
   "version": "3.9.1"
  }
 },
 "nbformat": 4,
 "nbformat_minor": 2
}
