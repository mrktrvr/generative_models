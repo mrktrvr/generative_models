{
 "cells": [
  {
   "cell_type": "markdown",
   "metadata": {},
   "source": [
    "# Model\n",
    "$$\n",
    "\\begin{align}\n",
    "p(\\boldsymbol{Y},\\boldsymbol{S},\\boldsymbol{\\mu},\\boldsymbol{R},\\boldsymbol{\\pi})=&p(\\boldsymbol{Y}|\\boldsymbol{S},\\boldsymbol{\\mu},\\boldsymbol{R})p(\\boldsymbol{S}|\\boldsymbol{\\pi})p(\\boldsymbol{\\mu},\\boldsymbol{R})p(\\boldsymbol{\\pi})\n",
    "\\\\\n",
    "p(\\boldsymbol{Y}|\\boldsymbol{S},\\boldsymbol{\\mu},\\boldsymbol{R})&=\\prod_t^Tp(\\boldsymbol{y}_t|s_t,\\boldsymbol{\\mu},\\boldsymbol{R})=\\prod_t^T\\prod_k^K\\mathcal{N}(\\boldsymbol{y}_t|\\boldsymbol{\\mu}^{(k)},\\boldsymbol{R}^{(k)^{-1}})^{s_t^{(k)}}\n",
    "\\\\\n",
    "p(\\boldsymbol{S}|\\boldsymbol{\\pi})&=\\prod_{t=1}^{T}\\mathrm{Cat}(s_t|\\boldsymbol{\\pi})\n",
    "\\\\\n",
    "p(\\boldsymbol{\\mu},\\boldsymbol{R})&=\\prod_{k=1}^{K}\\mathcal{NW}(\\boldsymbol{\\mu}^{(k)},\\boldsymbol{R}^{(k)}|\\beta^{(k)},\\boldsymbol{\\mu}_0^{(k)},\\nu^{(k)},\\boldsymbol{W}^{(k)})\n",
    "\\\\\n",
    "p(\\boldsymbol{\\pi})&=\\mathrm{Dir}(\\boldsymbol{\\pi}|\\alpha_{\\boldsymbol{\\pi}})\n",
    "\\end{align}\n",
    "$$"
   ]
  },
  {
   "cell_type": "markdown",
   "metadata": {},
   "source": [
    "# q(S)\n",
    "\n",
    "$$\n",
    "\\begin{align}\n",
    "\\ln q(\\boldsymbol{S})=&\\langle\\ln p(\\boldsymbol{Y}|\\boldsymbol{S},\\boldsymbol{\\mu},\\boldsymbol{R})\\rangle_{q(\\boldsymbol{\\mu},\\boldsymbol{R})}+\\langle \\ln p(\\boldsymbol{S}|\\boldsymbol{\\pi})\\rangle_{q(\\boldsymbol{\\pi})}+C\n",
    "\\\\\n",
    "=&\\sum_{t=1}^T\\sum_{k=1}^{K}-\\frac{1}{2}s_t^{(k)}\\{\n",
    "\\boldsymbol{y}_t^\\top\\langle \\boldsymbol{R}^{(k)}\\rangle \\boldsymbol{y}_t - 2\\boldsymbol{y}_t^\\top\\langle \\boldsymbol{R}^{(k)}\\boldsymbol{\\mu}^{(k)}\\rangle+\\langle \\boldsymbol{\\mu}^{(k)^\\top} \\boldsymbol{R}^{(k)}\\boldsymbol{\\mu}^{(k)}\\rangle-\\langle\\ln |\\boldsymbol{R}^{(k)}|\\rangle \\}\n",
    "+ s_t^{(k)}\\langle \\ln\\pi_k\\rangle+C\n",
    "\\\\\n",
    "=&\\sum_{t=1}^\\top\\sum_{k=1}^{K}s_t^{(k)}\\{-\\frac{1}{2}(\\boldsymbol{y}_t^\\top\\langle \\boldsymbol{R}^{(k)}\\rangle \\boldsymbol{y}_t - 2\\boldsymbol{y}_t^\\top\\langle \\boldsymbol{R}^{(k)}\\boldsymbol{\\mu}^{(k)}\\rangle+\\langle \\boldsymbol{\\mu}^{(k)^\\top} \\boldsymbol{R}^{(k)}\\boldsymbol{\\mu}^{(k)}\\rangle-\\langle\\ln |\\boldsymbol{R}^{(k)}|)+\\langle\\ln\\pi_k\\rangle\\}+C\n",
    "\\\\\n",
    "q(\\boldsymbol{S})=&\\prod_{t=1}^T \\mathrm{Cat}(\\boldsymbol{s}_t|\\rho_t)\n",
    "\\\\\n",
    "\\rho_{t}^{(k)}&\\propto \\exp\\{-\\frac{1}{2}(\\boldsymbol{y}_t^\\top\\langle \\boldsymbol{R}^{(k)}\\rangle \\boldsymbol{y}_t-2\\boldsymbol{y}_t^\\top\\langle\\boldsymbol{R}^{(k)}\\boldsymbol{\\mu}^{(k)}\\rangle+\\langle \\boldsymbol{\\mu}^{(k)^\\top} \\boldsymbol{R}^{(k)}\\boldsymbol{\\mu}^{(k)}\\rangle-\\langle\\ln |\\boldsymbol{R}^{(k)}|\\rangle)+\\langle\\ln \\pi_k\\rangle\\}\n",
    "\\end{align}\n",
    "$$\n",
    "### expectation\n",
    "$$\n",
    "\\langle s_{t}^{(k)} \\rangle=\\frac{\\rho_t^{(k)}}{\\sum_i^K\\rho_t^{(i)}}\n",
    "$$"
   ]
  },
  {
   "cell_type": "markdown",
   "metadata": {},
   "source": [
    "-"
   ]
  },
  {
   "cell_type": "markdown",
   "metadata": {},
   "source": [
    "# q(π)\n",
    "$$\n",
    "\\begin{align}\n",
    "\\ln q(\\boldsymbol{\\pi})=&\\langle\\ln p(\\boldsymbol{S}|\\boldsymbol{\\pi})\\rangle_{q(\\boldsymbol{S})}+\\ln p(\\boldsymbol{\\pi}) +C\n",
    "\\\\\n",
    "=&\\langle\\sum_{t=t}^{T} \\ln\\mathrm{Cat}(s_t|\\pi)\\rangle_{q(S)}+\\ln\\mathrm{Dir}(\\pi|\\alpha_{\\pi}) + C\n",
    "\\\\\n",
    "=&\\sum_{t=1}^{T} \\sum_{k=1}^{K} \\langle s_t^{(k)}\\rangle \\ln\\pi^{(k)}+\\sum_{k=1}^{K}(\\alpha_{\\pi}^{(k)}-1)\\ln\\pi^{(k)} + C\n",
    "\\\\\n",
    "=&\\sum_k^K(\\sum_t^T\\langle s_t^{(k)}\\rangle +\\alpha_{\\pi}^{(k)}-1)\\ln\\pi^{(k)}+C\n",
    "\\\\\n",
    "=&\\ln\\mathrm{Dir}(\\pi|\\hat{\\alpha}_{\\pi})\n",
    "\\\\\n",
    "\\hat{\\boldsymbol{\\alpha}}_{\\pi}&=\\sum_t^T\\langle \\boldsymbol{s}_t \\rangle + \\boldsymbol{\\alpha}_{\\pi}\n",
    "\\end{align}\n",
    "$$\n",
    "### expectation\n",
    "$$\n",
    "\\langle \\ln \\pi^{(k)} \\rangle = \\psi(\\hat{\\alpha}_k)-psi(\\sum_{i=1}^{K}\\hat{\\alpha}_i)\n",
    "$$"
   ]
  },
  {
   "cell_type": "markdown",
   "metadata": {},
   "source": [
    "# Lower Bound\n",
    "\n",
    "\n",
    "$$\n",
    "\\begin{align}\n",
    "\\mathcal{L}(q(\\boldsymbol{S})q(\\boldsymbol{\\mu},\\boldsymbol{R},\\boldsymbol{\\pi}))=&\\sum_{\\boldsymbol{S}}\\int_{\\boldsymbol{\\mu}}\\int_{\\boldsymbol{R}}\\int_{\\boldsymbol{\\pi}}q(\\boldsymbol{S})q(\\boldsymbol{\\mu},\\boldsymbol{R},\\boldsymbol{\\pi})\\ln\\frac{p(\\boldsymbol{Y},\\boldsymbol{S},\\boldsymbol{\\mu},\\boldsymbol{R},\\boldsymbol{\\pi})}{q(\\boldsymbol{S})q(\\boldsymbol{\\mu},\\boldsymbol{R},\\boldsymbol{\\pi})}\\mathrm{d}\\boldsymbol{\\mu} \\mathrm{d}\\boldsymbol{R} \\mathrm{d}\\boldsymbol{\\pi}\n",
    "\\\\\n",
    "=&-\\mathrm{KL}[q(\\boldsymbol{S})q(\\boldsymbol{\\mu},\\boldsymbol{R},\\boldsymbol{\\pi})||p(\\boldsymbol{Y},\\boldsymbol{S},\\boldsymbol{\\mu},\\boldsymbol{R},\\boldsymbol{\\pi})]\n",
    "\\\\\n",
    "=&-\\langle q(\\boldsymbol{S})q(\\boldsymbol{\\mu},\\boldsymbol{R},\\boldsymbol{\\pi})\\rangle_{q(\\boldsymbol{S})q(\\boldsymbol{\\mu},\\boldsymbol{R},\\boldsymbol{\\pi})} + \\langle p(\\boldsymbol{Y},\\boldsymbol{S},\\boldsymbol{\\mu},\\boldsymbol{R},\\boldsymbol{\\pi})\\rangle_{q(\\boldsymbol{S})q(\\boldsymbol{\\mu},\\boldsymbol{R},\\boldsymbol{\\pi})}\n",
    "\\\\\n",
    "=&\\langle \\ln p(\\boldsymbol{Y}|\\boldsymbol{S},\\boldsymbol{\\mu},\\boldsymbol{R})\\rangle_{q(\\boldsymbol{S})q(\\boldsymbol{\\mu},\\boldsymbol{R},\\boldsymbol{\\pi})}+\\langle \\ln p(\\boldsymbol{S}|\\boldsymbol{\\pi})\\rangle_{q(\\boldsymbol{S})q(\\boldsymbol{\\mu},\\boldsymbol{R},\\boldsymbol{\\pi})}\n",
    "-\\langle \\ln q(\\boldsymbol{S})\\rangle_{q(\\boldsymbol{S})q(\\boldsymbol{\\mu},\\boldsymbol{R},\\boldsymbol{\\pi})}\n",
    "\\\\\n",
    "&+\\langle \\ln p(\\boldsymbol{\\mu},\\boldsymbol{R})\\rangle_{q(\\boldsymbol{S})q(\\boldsymbol{\\mu},\\boldsymbol{R},\\boldsymbol{\\pi})}-\\langle \\ln q(\\boldsymbol{\\mu},\\boldsymbol{R})\\rangle_{q(\\boldsymbol{S})q(\\boldsymbol{\\mu},\\boldsymbol{R},\\boldsymbol{\\pi})}\n",
    "\\\\\n",
    "&+\\langle \\ln p(\\boldsymbol{\\pi})\\rangle_{q(\\boldsymbol{S})q(\\boldsymbol{\\mu},\\boldsymbol{R},\\boldsymbol{\\pi})}-\\langle \\ln q(\\boldsymbol{\\pi})\\rangle_{q(\\boldsymbol{S})q(\\boldsymbol{\\mu},\\boldsymbol{R},\\boldsymbol{\\pi})}\n",
    "\\\\\n",
    "=&-C_{q(\\boldsymbol{S})}-\\mathrm{KL}[q(\\boldsymbol{\\mu},\\boldsymbol{R})||p(\\boldsymbol{\\mu},\\boldsymbol{R})]-\\mathrm{KL}[q(\\boldsymbol{\\pi})||p(\\boldsymbol{\\pi})]\n",
    "\\end{align}\n",
    "$$\n",
    "\n",
    "$$\n",
    "\\begin{align}\n",
    "-C_{q(\\boldsymbol{S})}=&\\langle \\ln p(\\boldsymbol{Y}|\\boldsymbol{S},\\boldsymbol{\\mu},\\boldsymbol{R})\\rangle_{q(\\boldsymbol{S})q(\\boldsymbol{\\mu},\\boldsymbol{R},\\boldsymbol{\\pi})}+\\langle \\ln p(\\boldsymbol{S}|\\boldsymbol{\\pi})\\rangle_{q(\\boldsymbol{S})q(\\boldsymbol{\\mu},\\boldsymbol{R},\\boldsymbol{\\pi})}\n",
    "-\\langle \\ln q(\\boldsymbol{S})\\rangle_{q(\\boldsymbol{S})q(\\boldsymbol{\\mu},\\boldsymbol{R},\\boldsymbol{\\pi})}\n",
    "\\\\\n",
    "-\\mathrm{KL}[q(\\boldsymbol{\\mu},\\boldsymbol{R})||p(\\boldsymbol{\\mu},\\boldsymbol{R})]=&\n",
    "\\langle \\ln p(\\boldsymbol{\\mu},\\boldsymbol{R})\\rangle_{q(\\boldsymbol{S})q(\\boldsymbol{\\mu},\\boldsymbol{R},\\boldsymbol{\\pi})}-\\langle \\ln q(\\boldsymbol{\\mu},\\boldsymbol{R})\\rangle_{q(\\boldsymbol{S})q(\\boldsymbol{\\mu},\\boldsymbol{R},\\boldsymbol{\\pi})}\n",
    "\\\\\n",
    "-\\mathrm{KL}[q(\\boldsymbol{\\pi})||p(\\boldsymbol{\\pi})]=&\\langle \\ln p(\\boldsymbol{\\pi})\\rangle_{q(\\boldsymbol{S})q(\\boldsymbol{\\mu},\\boldsymbol{R},\\boldsymbol{\\pi})}-\\langle \\ln q(\\boldsymbol{\\pi})\\rangle_{q(\\boldsymbol{S})q(\\boldsymbol{\\mu},\\boldsymbol{R},\\boldsymbol{\\pi})}\n",
    "\\end{align}\n",
    "$$\n",
    "\n",
    "\n",
    "\n",
    "$$\n",
    "\\begin{align}\n",
    "\\ln p(\\boldsymbol{Y}) =& \\ln \\sum_{\\boldsymbol{S}}\\int_{\\boldsymbol{\\mu}}\\int_{\\boldsymbol{R}}\\int_{\\boldsymbol{\\pi}} p(\\boldsymbol{Y},\\boldsymbol{S},\\boldsymbol{\\mu},\\boldsymbol{R},\\boldsymbol{\\pi})\\mathrm{d}\\boldsymbol{\\mu}\\mathrm{d}\\boldsymbol{R}\\mathrm{d}\\boldsymbol{\\pi}\n",
    "\\\\\n",
    "=& \\ln \\sum_{\\boldsymbol{S}}\\int_{\\boldsymbol{\\mu}}\\int_{\\boldsymbol{R}}\\int_{\\boldsymbol{\\pi}} q(\\boldsymbol{S})q(\\boldsymbol{\\mu},\\boldsymbol{R},\\boldsymbol{\\pi}) \\frac{p(\\boldsymbol{Y},\\boldsymbol{S},\\boldsymbol{\\mu},\\boldsymbol{R},\\boldsymbol{\\pi})}{q(\\boldsymbol{S})q(\\boldsymbol{\\mu},\\boldsymbol{R},\\boldsymbol{\\pi})}\\mathrm{d}\\boldsymbol{\\mu}\\mathrm{d}\\boldsymbol{R}\\mathrm{d}\\boldsymbol{\\pi}\n",
    "\\\\\n",
    "\\geq& \\sum_{\\boldsymbol{S}}\\int_{\\boldsymbol{\\mu}}\\int_{\\boldsymbol{R}}\\int_{\\boldsymbol{\\pi}} q(\\boldsymbol{S})q(\\boldsymbol{\\mu},\\boldsymbol{R},\\boldsymbol{\\pi}) \\ln \\frac{p(\\boldsymbol{Y},\\boldsymbol{S},\\boldsymbol{\\mu},\\boldsymbol{R},\\boldsymbol{\\pi})}{q(\\boldsymbol{S})q(\\boldsymbol{\\mu},\\boldsymbol{R},\\boldsymbol{\\pi})}\\mathrm{d}\\boldsymbol{\\mu}\\mathrm{d}\\boldsymbol{R}\\mathrm{d}\\boldsymbol{\\pi}\\\\\n",
    "=&\\mathcal{L}(q(\\boldsymbol{S})q(\\boldsymbol{\\mu},\\boldsymbol{R},\\boldsymbol{\\pi}))\n",
    "\\end{align}\n",
    "$$"
   ]
  },
  {
   "cell_type": "code",
   "execution_count": null,
   "metadata": {
    "collapsed": true
   },
   "outputs": [],
   "source": [
    "import os\n",
    "import sys\n",
    "cdir = os.getcwd()\n",
    "sys.path.append(os.path.join(cdir, '..'))\n",
    "from models.gmm import Gmm\n",
    "from models.gmm import plotter\n",
    "from models.gmm import gen_data"
   ]
  },
  {
   "cell_type": "markdown",
   "metadata": {},
   "source": [
    "# setting"
   ]
  },
  {
   "cell_type": "code",
   "execution_count": null,
   "metadata": {
    "collapsed": true
   },
   "outputs": [],
   "source": [
    "data_dim = 2\n",
    "n_states = 4\n",
    "data_len = 2000"
   ]
  },
  {
   "cell_type": "markdown",
   "metadata": {},
   "source": [
    "# data"
   ]
  },
  {
   "cell_type": "code",
   "execution_count": null,
   "metadata": {
    "collapsed": true
   },
   "outputs": [],
   "source": [
    "y = gen_data(data_dim, n_states, data_len)"
   ]
  },
  {
   "cell_type": "markdown",
   "metadata": {},
   "source": [
    "# GMM setup"
   ]
  },
  {
   "cell_type": "code",
   "execution_count": null,
   "metadata": {
    "collapsed": true
   },
   "outputs": [],
   "source": [
    "gmm = Gmm(data_dim, n_states)\n",
    "if True:\n",
    "    from numpy import zeros\n",
    "    mu = zeros((data_dim, n_states))\n",
    "    gmm.set_params({'MuR': {'mu': mu}})\n",
    "else:\n",
    "    gmm.set_default_params()\n",
    "gmm.init_expt_s(data_len)\n",
    "plotter(y, gmm.expt_s.argmax(0), gmm)"
   ]
  },
  {
   "cell_type": "markdown",
   "metadata": {},
   "source": [
    "# GMM update"
   ]
  },
  {
   "cell_type": "code",
   "execution_count": null,
   "metadata": {
    "collapsed": true
   },
   "outputs": [],
   "source": [
    "gmm.update(y)\n",
    "plotter(y, gmm.expt_s.argmax(0), gmm)"
   ]
  },
  {
   "cell_type": "code",
   "execution_count": null,
   "metadata": {
    "collapsed": true
   },
   "outputs": [],
   "source": []
  }
 ],
 "metadata": {
  "kernelspec": {
   "display_name": "Python 2",
   "language": "python",
   "name": "python2"
  },
  "language_info": {
   "codemirror_mode": {
    "name": "ipython",
    "version": 2
   },
   "file_extension": ".py",
   "mimetype": "text/x-python",
   "name": "python",
   "nbconvert_exporter": "python",
   "pygments_lexer": "ipython2",
   "version": "2.7.15"
  }
 },
 "nbformat": 4,
 "nbformat_minor": 2
}
