{
 "cells": [
  {
   "cell_type": "markdown",
   "id": "b288a034",
   "metadata": {},
   "source": [
    "# Model of threat classification\n",
    "## Overview\n",
    "The goal of this model is to infer threat object types such as 'Bomb', 'Rifle' and 'No threat' from frequency responses in a Region of Interest (ROI). To achieve this goal, a model that is a combination of Latent Dirichlet Allocation (LDA) and Gaussian Mixture model (GMM) is introduced.\n",
    "\n",
    "Each ROI contains several frequency responses that are from human body, cloths belongings of the person such as keys and mobile phones, and potentially threat objects. LDA is "
   ]
  },
  {
   "cell_type": "markdown",
   "id": "3e7383b3",
   "metadata": {},
   "source": [
    "## Latent Dirichlet Allocation (LDA)\n",
    "Latent Dirichlet Allocation (LDA) is a generative probabilistic model that is widely used in various fields such as Natural Language Processing (NLP) and bio-medicine. LDA allows sets of observations to be explained by unobserved groups. For example, if words collected into documents are observed, each document is a mixture of a small number of topics and that each word's presence is attributable to one of the document's topics. In our case, types of frequency responses can be treated as words, topics will be types of targets (frag, rifle, no-threats) within ROIs, and Region of Interests (ROIs) can be documents in this example.\n",
    "\n",
    "\n",
    "Figure (fig No ##) shows the graphical model of LDA. There are $B$ ROIs. Each ROI has $T_b$ acquisitions (Frequency responses). $s_{b,t}$ is the observed value (type of frequency response) of acquisition $t$ in ROI $b$.\n",
    "$C$ is the number of topics. All the types of frequency responses will be clustered into $C$ topics.\n",
    "$z_{b,t,c}$ is a latent variable that assigns the topic $c$ into the observed value $s_{b,t}$. $\\boldsymbol{\\phi}_b$ explains topic proportion of the ROI $b$ that is the parameter of the distribution $z_{b,t,c}$. $\\boldsymbol{\\pi}$ is the parameter of distribution $\\boldsymbol{S}$ to explain proportions between types of frequency responses and topics."
   ]
  },
  {
   "cell_type": "markdown",
   "id": "6ca84c12",
   "metadata": {},
   "source": [
    "![Graphical model of LDA](images/GraphicalModelLDA.png)"
   ]
  },
  {
   "cell_type": "markdown",
   "id": "faa023a9",
   "metadata": {},
   "source": [
    "The joint probability distribution of LDA can be written in Equation ##.\n",
    "$$\n",
    "\\begin{align}\n",
    "p(\\boldsymbol{S},\\boldsymbol{Z},\\boldsymbol{\\Phi},\\boldsymbol{\\Pi})&=p(\\boldsymbol{S}|\\boldsymbol{Z},\\boldsymbol{\\Pi})p(\\boldsymbol{Z}|\\boldsymbol{\\Phi})p(\\boldsymbol{\\Phi})p(\\boldsymbol{\\Pi})\n",
    "\\end{align}\n",
    "$$"
   ]
  },
  {
   "cell_type": "markdown",
   "id": "f65fe4c8",
   "metadata": {},
   "source": [
    "We assume that types of frequency responses $\\boldsymbol{S}$ and latent variables $\\boldsymbol{Z}$ are distributed by Categorical distribution. $\\boldsymbol{\\pi}$ and $\\boldsymbol{\\phi}$  are Dirichlet distributions that are parameters of $\\boldsymbol{S}$ and $\\boldsymbol{Z}$ respectively. $\\boldsymbol{\\alpha}_{\\phi}$ and $\\boldsymbol{\\alpha}_{\\pi}$ are hyper parameters of $\\boldsymbol{\\pi}$ and $\\boldsymbol{\\phi}$. Note that $\\mathrm{Cat}$ and $\\mathrm{Dir}$ are Categorical distribution and Dirichlet distribution respectively."
   ]
  },
  {
   "cell_type": "markdown",
   "id": "37c50326",
   "metadata": {},
   "source": [
    "$$\n",
    "\\begin{align}\n",
    "p(\\boldsymbol{S}|\\boldsymbol{Z},\\boldsymbol{\\Pi})&=\\prod_{b=1}^{B}\\prod_{t=1}^{T_b}\\prod_{c=1}^{C}\\mathrm{Cat}(\\boldsymbol{s}_{b,t}|\\boldsymbol{\\pi}_c)^{\\boldsymbol{z}_{b,t,c}}\n",
    "\\\\\n",
    "p(\\boldsymbol{Z}|\\boldsymbol{\\Phi})&=\\prod_{b=1}^{B}\\prod_{t=1}^{T_b}\\mathrm{Cat}(\\boldsymbol{z}_{b,t}|\\boldsymbol{\\phi}_b)\n",
    "\\\\\n",
    "p(\\boldsymbol{\\Phi})&=\\prod_{b=1}^{B}\\mathrm{Dir}(\\boldsymbol{\\phi}_b|\\boldsymbol{\\alpha}_{\\phi})\n",
    "\\\\\n",
    "p(\\boldsymbol{\\Pi})&=\\prod_{c=1}^{C}\\mathrm{Dir}(\\boldsymbol{\\pi}_c|\\boldsymbol{\\alpha}_{\\pi})\n",
    "\\end{align}\n",
    "$$"
   ]
  },
  {
   "cell_type": "markdown",
   "id": "dc15b8e1",
   "metadata": {},
   "source": [
    "## Mixture model\n",
    "Mixture model is a probabilistic model that assumes all the data points $\\boldsymbol{X}$ are generated from a mixture of $K$ states of distributions. Mixture model allows to describe complicated data which does not fit into a single distribution into a single model by mixing coefficients $\\boldsymbol{\\pi}$ and latent variables $\\boldsymbol{S}$ which assign states of distributions.\n",
    "\n",
    "The graphical representation of the mixture model is shown in Figure ##. $\\boldsymbol{x}_t$ is the observation at t of the total number of samples $T$. $\\boldsymbol{S}_t$ is $t$-th state assignment latent variable. $\\boldsymbol{pi}$ is the mixing coefficients distribution with its hyper parameter $\\boldsymbol{\\alpha}_{\\pi}$."
   ]
  },
  {
   "cell_type": "markdown",
   "id": "a431929d",
   "metadata": {},
   "source": [
    "![Graphical model of Mixture model](images/GraphicalModelMM.png)"
   ]
  },
  {
   "cell_type": "markdown",
   "id": "74bb902c",
   "metadata": {},
   "source": [
    "Multivariate Gaussian distribution is assumed as the observation distribution. This mixture model is known as Gaussian Mixture Model (GMM). The graphical model is shown in Figure (Fig No ##). The joint probability distribution of GMM can be written in Equation ##.\n",
    "\n",
    "$$p(\\boldsymbol{X},\\boldsymbol{S},\\boldsymbol{\\mu},\\boldsymbol{R},\\boldsymbol{\\pi})=p(\\boldsymbol{X}|\\boldsymbol{S},\\boldsymbol{\\mu},\\boldsymbol{R})p(\\boldsymbol{S}|\\boldsymbol{\\pi})p(\\boldsymbol{\\mu},\\boldsymbol{R})p(\\boldsymbol{\\pi})$$\n"
   ]
  },
  {
   "cell_type": "markdown",
   "id": "97276fe0",
   "metadata": {},
   "source": [
    "$\\boldsymbol{x}_t$ is the observation at sample $t$ of the total number of samples $T$ that is generated by Multivariate Gaussian distribution with parameters $\\boldsymbol{\\mu}$ and $\\boldsymbol{R}$. $\\boldsymbol{\\mu}$ and $\\boldsymbol{R}$ are Normal-Wishart distribution with hyper parameters $\\boldsymbol{\\mu}_0$, $\\boldsymbol{\\beta}$, $\\boldsymbol{\\nu}$, $\\boldsymbol{W}$."
   ]
  },
  {
   "cell_type": "markdown",
   "id": "90aad605",
   "metadata": {},
   "source": [
    "\n",
    "$$\n",
    "\\begin{align}\n",
    "p(\\boldsymbol{X}|\\boldsymbol{S},\\boldsymbol{\\mu},\\boldsymbol{R})&=\\prod_t^Tp(\\boldsymbol{x}_t|s_t,\\boldsymbol{\\mu},\\boldsymbol{R})=\\prod_t^T\\prod_k^K\\mathcal{N}(\\boldsymbol{x}_t|\\boldsymbol{\\mu}^{(k)},\\boldsymbol{R}^{(k)^{-1}})^{s_t^{(k)}}\n",
    "\\\\\n",
    "p(\\boldsymbol{S}|\\boldsymbol{\\pi})&=\\prod_{t=1}^{T}\\mathrm{Cat}(s_t|\\boldsymbol{\\pi})\n",
    "\\\\\n",
    "p(\\boldsymbol{\\mu},\\boldsymbol{R})&=\\prod_{k=1}^{K}\\mathcal{NW}(\\boldsymbol{\\mu}^{(k)},\\boldsymbol{R}^{(k)}|\\beta^{(k)},\\boldsymbol{\\mu}_0^{(k)},\\nu^{(k)},\\boldsymbol{W}^{(k)})\n",
    "\\\\\n",
    "p(\\boldsymbol{\\pi})&=\\mathrm{Dir}(\\boldsymbol{\\pi}|\\alpha_{\\boldsymbol{\\pi}})\n",
    "\\end{align}\n",
    "$$"
   ]
  },
  {
   "cell_type": "markdown",
   "id": "32471e16",
   "metadata": {},
   "source": [
    "![Graphical model of Mixture model](images/GraphicalModelGMM.png)"
   ]
  },
  {
   "cell_type": "markdown",
   "id": "5d210e86",
   "metadata": {},
   "source": [
    "## Latent Dirichlet Allocation and Gaussian Mixture Model"
   ]
  },
  {
   "cell_type": "markdown",
   "id": "9895f114",
   "metadata": {},
   "source": [
    "![Graphical model of Mixture model](images/GraphicalModelGMMLDA.png)"
   ]
  },
  {
   "cell_type": "markdown",
   "id": "ca27dca8",
   "metadata": {},
   "source": [
    "# Reference\n",
    "- [Latent Dirichlet Allocation](https://jmlr.org/papers/volume3/blei03a/blei03a.pdf)"
   ]
  },
  {
   "cell_type": "code",
   "execution_count": null,
   "id": "9b7a2593",
   "metadata": {},
   "outputs": [],
   "source": []
  }
 ],
 "metadata": {
  "kernelspec": {
   "display_name": "Python 3",
   "language": "python",
   "name": "python3"
  },
  "language_info": {
   "codemirror_mode": {
    "name": "ipython",
    "version": 3
   },
   "file_extension": ".py",
   "mimetype": "text/x-python",
   "name": "python",
   "nbconvert_exporter": "python",
   "pygments_lexer": "ipython3",
   "version": "3.9.1"
  }
 },
 "nbformat": 4,
 "nbformat_minor": 5
}
