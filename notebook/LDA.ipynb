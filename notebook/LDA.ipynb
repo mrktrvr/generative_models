{
 "cells": [
  {
   "cell_type": "markdown",
   "metadata": {},
   "source": [
    "# model\n",
    "\n",
    "$$\n",
    "\\begin{align}\n",
    "p(\\boldsymbol{S},\\boldsymbol{Z},\\boldsymbol{\\Phi},\\boldsymbol{\\Pi})=&p(\\boldsymbol{S}|\\boldsymbol{Z},\\boldsymbol{\\Pi})p(\\boldsymbol{Z}|\\boldsymbol{\\Phi})p(\\boldsymbol{\\Phi})p(\\boldsymbol{\\Pi})\n",
    "\\\\\n",
    "p(\\boldsymbol{S}|\\boldsymbol{Z},\\boldsymbol{\\Pi})&=\\prod_{b=1}^{B}\\prod_{t=1}^{T_b}\\prod_{c=1}^{C}\\mathrm{Cat}(\\boldsymbol{s}_{b,t}|\\boldsymbol{\\pi}_c)^{\\boldsymbol{z}_{b,t}^{(c)}}\n",
    "\\\\\n",
    "p(\\boldsymbol{Z}|\\boldsymbol{\\Phi})&=\\prod_{b=1}^{B}\\prod_{t=1}^{T_b}\\mathrm{Cat}(\\boldsymbol{z}_{b,t}|\\boldsymbol{\\phi}_b)\n",
    "\\\\\n",
    "p(\\boldsymbol{\\Phi})&=\\prod_{b=1}^{B}p(\\boldsymbol{\\phi}_b)=\\prod_{b=1}^{B}\\mathrm{Dir}(\\boldsymbol{\\phi}_b|\\boldsymbol{\\alpha}_{\\phi})\n",
    "\\\\\n",
    "p(\\boldsymbol{\\Pi})&=\\prod_{c=1}^{C}p(\\boldsymbol{\\pi}_c)=\\prod_{c=1}^{C}\\mathrm{Dir}(\\boldsymbol{\\pi}_c|\\boldsymbol{\\alpha}_{\\pi})\n",
    "\\end{align}\n",
    "$$"
   ]
  },
  {
   "cell_type": "markdown",
   "metadata": {},
   "source": [
    "# Variational Inference\n",
    "$$\n",
    "\\begin{align}\n",
    "\\ln q(\\boldsymbol{Z})=&\\langle \\ln p(\\boldsymbol{S}|\\boldsymbol{Z},\\boldsymbol{\\Pi}) \\rangle_{q(\\boldsymbol{\\Pi})} +  \\langle \\ln p(\\boldsymbol{Z}|\\boldsymbol{\\Phi}) \\rangle_{q(\\boldsymbol{\\Phi})} + C\n",
    "\\\\\n",
    "\\ln q(\\boldsymbol{\\Pi})=&\\langle \\ln p(\\boldsymbol{S}|\\boldsymbol{Z},\\boldsymbol{\\Pi}) \\rangle_{q(\\boldsymbol{S})} +  \\ln p(\\boldsymbol{\\Pi}) + C\n",
    "\\\\\n",
    "\\ln q(\\boldsymbol{\\Phi})=&\\langle \\ln p(\\boldsymbol{Z}|\\boldsymbol{\\Phi}) \\rangle_{q(\\boldsymbol{Z})} + \\ln p(\\boldsymbol{\\Phi}) + C\n",
    "\\end{align}\n",
    "$$"
   ]
  },
  {
   "cell_type": "markdown",
   "metadata": {},
   "source": [
    "# q(Z)\n",
    "### posterior\n",
    "$$\n",
    "\\begin{align}\n",
    "q(\\boldsymbol{Z})=&\\prod_{b=1}^{B}\\prod_{t=1}^{T_b}\\mathrm{Cat}(\\boldsymbol{z_{b,t}}|\\boldsymbol{\\eta}_{b,t})\n",
    "\\\\\n",
    "\\eta_{b,t,c} &\\propto \\exp \\{ \\sum_{k=1}^{K} s_{b,t,k} \\langle \\ln \\pi_{c,k} \\rangle +\\langle \\ln \\phi_{b,c}\\rangle \\}\n",
    "\\end{align}\n",
    "$$\n",
    "### derivation\n",
    "$$\n",
    "\\begin{align}\n",
    "\\ln q(\\boldsymbol{Z})=&\\langle \\ln p(\\boldsymbol{S}|\\boldsymbol{Z},\\boldsymbol{\\Pi}) \\rangle_{q(\\boldsymbol{\\Pi})} +  \\langle \\ln p(\\boldsymbol{Z}|\\boldsymbol{\\Phi}) \\rangle_{q(\\boldsymbol{\\Phi})} + C\n",
    "\\\\\n",
    "=& \\sum_{b=1}^{B}\\sum_{t=1}^{T_b}\\sum_{c=1}^{C} z_{b,t}^{(c)} \\sum_{k=1}^{K} s_{b,t}^{(k)} \\langle\\ln\\pi_{c,k}\\rangle  +z_{b,t}^{(c)} \\langle \\ln\\phi_{b,c}\\rangle+C\n",
    "\\\\\n",
    "=& \\sum_{b=1}^{B}\\sum_{t=1}^{T_b}\\sum_{c=1}^{C} z_{b,t}^{(c)}(\\sum_{k=1}^{K} s_{b,t}^{(k)} \\langle\\ln\\pi_{c,k}\\rangle  + \\langle \\ln\\phi_{b,c}\\rangle)+C\n",
    "\\\\\n",
    "=& \\sum_{b=1}^{B}\\sum_{t=1}^{T_b} \\ln \\mathrm{Cat}(\\boldsymbol{Z}_{b,t}|\\boldsymbol{\\eta}_{b,t}) + C\n",
    "\\end{align}\n",
    "$$\n"
   ]
  },
  {
   "cell_type": "markdown",
   "metadata": {},
   "source": [
    "# q(π)\n",
    "### posterior\n",
    "$$\n",
    "\\begin{align}\n",
    "q(\\boldsymbol{\\Pi})=&\\prod_{c=1}^{C}\\mathrm{Dir}(\\boldsymbol{\\pi}_{c}|\\boldsymbol{\\alpha}_{\\pi_c})\n",
    "\\\\\n",
    "\\hat{\\alpha}_{\\pi_{c,k}}&=\\alpha_{\\pi_{c,k}}+\\sum_{b=1}^{B}\\sum_{t=1}^{T_b}\\langle z_{b,t}^{(c)} \\rangle s_{b, t}^{(k)}\n",
    "\\end{align}\n",
    "$$\n",
    "### derivation\n",
    "$$\n",
    "\\begin{align}\n",
    "\\ln q(\\boldsymbol{\\Pi})=&\\langle \\ln p(\\boldsymbol{S}|\\boldsymbol{Z},\\boldsymbol{\\Pi}) \\rangle_{q(\\boldsymbol{S})} +  \\ln p(\\boldsymbol{\\Pi}) + C\n",
    "\\\\\n",
    "=& \\sum_{c=1}^{C}\\sum_{k=1}^{K}  (\\alpha_{\\pi_{c,k}} + \\sum_{b=1}^{B}\\sum_{t=1}^{T_b}\\langle z_{b,t}^{(c)}\\rangle s_{b,t}^{(k)} -1)\\ln\\pi_{c,k}+C\n",
    "\\\\\n",
    "=& \\sum_{c=1}^{C} \\ln \\mathrm{Dir}(\\boldsymbol{\\pi}_{c}|\\boldsymbol{\\alpha}_{\\pi_c}) + C\n",
    "\\end{align}\n",
    "$$"
   ]
  },
  {
   "cell_type": "markdown",
   "metadata": {},
   "source": [
    "# q(φ)\n",
    "### posterior\n",
    "$$\n",
    "\\begin{align}\n",
    "q(\\boldsymbol{\\Phi})=&\\prod_{b=1}^{B}\\mathrm{Dir}(\\boldsymbol{\\phi}_{b}|\\boldsymbol{\\alpha}_{\\phi_b})\n",
    "\\\\\n",
    "\\hat{\\alpha}_{\\phi_{b,c}}&=\\alpha_{\\phi_b}+\\sum_{t=1}^{T_b}\\langle z_{b,t}^{(c)} \\rangle\n",
    "\\end{align}\n",
    "$$\n",
    "### derivation\n",
    "$$\n",
    "\\begin{align}\n",
    "\\ln q(\\boldsymbol{\\Phi})=&\\langle \\ln p(\\boldsymbol{Z}|\\boldsymbol{\\Phi}) \\rangle_{q(\\boldsymbol{Z})} + \\ln p(\\boldsymbol{\\Phi}) + C\n",
    "\\\\\n",
    "=& \\sum_{b=1}^{B}\\sum_{c=1}^{C} (\\alpha_{\\phi_{b,c}}+\\sum_{t=1}^{T_b} \\langle z_{b,t}^{(c)}\\rangle-1)\\ln\\phi_{b,c} +C\n",
    "\\\\\n",
    "=& \\sum_{b=1}^{B} \\ln \\mathrm{Dir}(\\boldsymbol{\\phi}_{b}|\\boldsymbol{\\alpha}_{\\phi_b}) + C\n",
    "\\end{align}\n",
    "$$"
   ]
  },
  {
   "cell_type": "code",
   "execution_count": null,
   "metadata": {
    "collapsed": true
   },
   "outputs": [],
   "source": []
  },
  {
   "cell_type": "markdown",
   "metadata": {},
   "source": []
  }
 ],
 "metadata": {
  "kernelspec": {
   "display_name": "Python 2",
   "language": "python",
   "name": "python2"
  },
  "language_info": {
   "codemirror_mode": {
    "name": "ipython",
    "version": 2
   },
   "file_extension": ".py",
   "mimetype": "text/x-python",
   "name": "python",
   "nbconvert_exporter": "python",
   "pygments_lexer": "ipython2",
   "version": "2.7.15"
  }
 },
 "nbformat": 4,
 "nbformat_minor": 2
}
